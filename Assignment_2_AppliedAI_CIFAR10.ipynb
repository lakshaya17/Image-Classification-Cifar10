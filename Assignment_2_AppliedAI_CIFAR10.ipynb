{
  "cells": [
    {
      "cell_type": "markdown",
      "metadata": {
        "id": "pZJ3uY9O17VN"
      },
      "source": [
        "# Problem 1. Use CIFAR10 dataset for CNN classification and write a python code.\n",
        "\n",
        "1. Use the following source: keras.datasets.cifar10\n",
        "2. Try different number of neurons (efficient code requires low computational cost (less number of neurons with higher accuracy)),\n",
        "3. You should be capable of accessing the NN weights and biases\n",
        "4. Try different types of optimizers\n",
        "5. Plot the training loss, training accuracy, validation loss, and validation accuracy,\n",
        "\n",
        "6. Implement an EarlyStopping and save the model at a checkpoint (similar to Problem 1),\n",
        "   - to implement EarlyStopping and save model at a checkpoint when\n",
        "     - no progress has been acheived and/or\n",
        "     - overfitting has been observed.\n",
        "7. Save the model.\n",
        "8. Restore the model,\n",
        "9. Add more metrics that can be helpful to the customer/reader.\n"
      ]
    },
    {
      "cell_type": "markdown",
      "metadata": {
        "id": "xCUREq7WXgvg"
      },
      "source": [
        "\n",
        "\n",
        "## Installs and imports"
      ]
    },
    {
      "cell_type": "markdown",
      "metadata": {
        "id": "7l0MiTOrXtNv"
      },
      "source": [
        "Install and import TensorFlow and dependencies:"
      ]
    },
    {
      "cell_type": "code",
      "execution_count": null,
      "metadata": {
        "id": "RzIOVSdnMYyO",
        "outputId": "db685e52-b5d3-4a7e-f79b-cdc546d3bf41",
        "colab": {
          "base_uri": "https://localhost:8080/"
        }
      },
      "outputs": [
        {
          "output_type": "stream",
          "name": "stdout",
          "text": [
            "Looking in indexes: https://pypi.org/simple, https://us-python.pkg.dev/colab-wheels/public/simple/\n",
            "Requirement already satisfied: pyyaml in /usr/local/lib/python3.7/dist-packages (6.0)\n",
            "Requirement already satisfied: h5py in /usr/local/lib/python3.7/dist-packages (3.1.0)\n",
            "Requirement already satisfied: numpy>=1.14.5 in /usr/local/lib/python3.7/dist-packages (from h5py) (1.21.6)\n",
            "Requirement already satisfied: cached-property in /usr/local/lib/python3.7/dist-packages (from h5py) (1.5.2)\n",
            "Looking in indexes: https://pypi.org/simple, https://us-python.pkg.dev/colab-wheels/public/simple/\n",
            "Collecting texttable\n",
            "  Downloading texttable-1.6.4-py2.py3-none-any.whl (10 kB)\n",
            "Installing collected packages: texttable\n",
            "Successfully installed texttable-1.6.4\n"
          ]
        }
      ],
      "source": [
        "!pip install pyyaml h5py  # Required to save models in HDF5 format\n",
        "!pip install texttable"
      ]
    },
    {
      "cell_type": "code",
      "execution_count": null,
      "metadata": {
        "id": "7Nm7Tyb-gRt-",
        "outputId": "86c172db-c40d-4063-8949-89adb35bca35",
        "colab": {
          "base_uri": "https://localhost:8080/"
        }
      },
      "outputs": [
        {
          "output_type": "stream",
          "name": "stdout",
          "text": [
            "2.8.2\n"
          ]
        }
      ],
      "source": [
        "import os\n",
        "\n",
        "import tensorflow as tf\n",
        "from tensorflow import keras\n",
        "import numpy as np\n",
        "import pandas as pd\n",
        "import matplotlib.pyplot as plt\n",
        "\n",
        "np.random.seed(25) # For generating same random values\n",
        "\n",
        "print(tf.version.VERSION)"
      ]
    },
    {
      "cell_type": "code",
      "source": [
        "from functools import partial\n",
        "from keras.models import Sequential\n",
        "from keras.layers import Dense, Dropout, Flatten, Conv2D, MaxPooling2D, BatchNormalization, Input, UpSampling2D, GlobalAveragePooling2D\n",
        "from keras.callbacks import EarlyStopping, ModelCheckpoint\n",
        "from keras.preprocessing.image import ImageDataGenerator\n",
        "from keras import optimizers, regularizers\n",
        "from sklearn import metrics\n",
        "from sklearn.metrics import classification_report\n",
        "from keras.models import Model, load_model"
      ],
      "metadata": {
        "id": "uXCpGOrtnCEA"
      },
      "execution_count": null,
      "outputs": []
    },
    {
      "cell_type": "markdown",
      "metadata": {
        "id": "SbGsznErXWt6"
      },
      "source": [
        "### Importing CIFAR10 Dataset"
      ]
    },
    {
      "cell_type": "code",
      "execution_count": null,
      "metadata": {
        "id": "9rGfFwE9XVwz",
        "outputId": "7d98d187-b1c6-4bbf-f9ce-2a25300ae6da",
        "colab": {
          "base_uri": "https://localhost:8080/"
        }
      },
      "outputs": [
        {
          "output_type": "stream",
          "name": "stdout",
          "text": [
            "Shape of x_train: (50000, 32, 32, 3)\n",
            "Shape of y_train: (50000, 1)\n",
            "\n",
            "Shape of x_test: (10000, 32, 32, 3)\n",
            "Shape of y_test: (10000, 1)\n"
          ]
        }
      ],
      "source": [
        "from keras.datasets import cifar10\n",
        "\n",
        "(x_train, y_train), (x_test, y_test) = cifar10.load_data()\n",
        "print(\"Shape of x_train: {}\".format(x_train.shape))\n",
        "print(\"Shape of y_train: {}\".format(y_train.shape))\n",
        "print()\n",
        "print(\"Shape of x_test: {}\".format(x_test.shape))\n",
        "print(\"Shape of y_test: {}\".format(y_test.shape))"
      ]
    },
    {
      "cell_type": "code",
      "source": [
        "classes = ['airplane', 'automobile', 'bird', 'cat', 'deer', 'dog', 'frog', 'horse', 'ship', 'truck']\n",
        "ROW = 3\n",
        "COLUMN = 3\n",
        "plt.figure(figsize=(6, 6)) \n",
        "for i in range(ROW * COLUMN):\n",
        "    image = x_train[i] \n",
        "    plt.subplot(ROW, COLUMN, i+1)       \n",
        "    plt.imshow(image, interpolation='nearest')  \n",
        "    plt.title('label = {}'.format(classes[y_train[i][0]]))\n",
        "    plt.axis('off')\n",
        "    plt.tight_layout()   \n",
        "    \n",
        "plt.show()"
      ],
      "metadata": {
        "colab": {
          "base_uri": "https://localhost:8080/",
          "height": 441
        },
        "id": "e1jKwvDoNJkk",
        "outputId": "c3314834-316d-4161-9921-be0683a8040c"
      },
      "execution_count": null,
      "outputs": [
        {
          "output_type": "display_data",
          "data": {
            "text/plain": [
              "<Figure size 432x432 with 9 Axes>"
            ],
            "image/png": "[encoded data removed]"
          },
          "metadata": {
            "needs_background": "light"
          }
        }
      ]
    },
    {
      "cell_type": "code",
      "source": [
        "sample = 1902 \n",
        "each = x_train[sample]\n",
        "\n",
        "plt.figure(figsize=(2,2))\n",
        "plt.axis('off')\n",
        "plt.imshow(each, interpolation='nearest')\n",
        "print(\"Image (#{}): Which is label number '{}', or label '{}''\".format(sample,y_train[sample], classes[y_train[sample][0]]))"
      ],
      "metadata": {
        "colab": {
          "base_uri": "https://localhost:8080/",
          "height": 158
        },
        "id": "ulOM7naHOU3H",
        "outputId": "a90e56d9-8959-482b-ecb6-b43aed9229e6"
      },
      "execution_count": null,
      "outputs": [
        {
          "output_type": "stream",
          "name": "stdout",
          "text": [
            "Image (#1902): Which is label number '[7]', or label 'horse''\n"
          ]
        },
        {
          "output_type": "display_data",
          "data": {
            "text/plain": [
              "<Figure size 144x144 with 1 Axes>"
            ],
            "image/png": "[encoded data removed]"
          },
          "metadata": {
            "needs_background": "light"
          }
        }
      ]
    },
    {
      "cell_type": "code",
      "source": [
        "# Normalize the data\n",
        "x_train = x_train.astype('float32')\n",
        "x_test = x_test.astype('float32')\n",
        "\n",
        "x_train=x_train.reshape(x_train.shape[0], x_train.shape[1], x_train.shape[2], 3)\n",
        "x_train /= 255.0\n",
        "x_test = x_test.reshape(x_test.shape[0], x_test.shape[1], x_test.shape[2], 3)\n",
        "x_test /= 255.0\n",
        "\n",
        "train_images = x_train\n",
        "test_images = x_test\n",
        "print(train_images.shape)\n",
        "print(test_images.shape)"
      ],
      "metadata": {
        "id": "9DZJT0jNlJGV",
        "outputId": "fe0b0e8c-7675-4aca-ebdd-b4b3406de93f",
        "colab": {
          "base_uri": "https://localhost:8080/"
        }
      },
      "execution_count": null,
      "outputs": [
        {
          "output_type": "stream",
          "name": "stdout",
          "text": [
            "(50000, 32, 32, 3)\n",
            "(10000, 32, 32, 3)\n"
          ]
        }
      ]
    },
    {
      "cell_type": "code",
      "source": [
        "# One hot encode the outcome \n",
        "num_classes = len(classes)\n",
        "\n",
        "#y_train = y_train.flatten()\n",
        "#y_test = y_test.flatten()\n",
        "# Converts a class vector (integers) to binary class matrix.   \n",
        "y_train_tf = keras.utils.to_categorical(y_train, num_classes)\n",
        "y_test_tf = keras.utils.to_categorical(y_test, num_classes)\n",
        "\n",
        "#y_train_tf = y_train\n",
        "#y_test_tf = y_test\n",
        "\n",
        "print(y_train_tf.shape)"
      ],
      "metadata": {
        "id": "0IYIj2NqoGwf",
        "outputId": "d4ae99dc-631e-4741-8f5e-099eb6650dae",
        "colab": {
          "base_uri": "https://localhost:8080/"
        }
      },
      "execution_count": null,
      "outputs": [
        {
          "output_type": "stream",
          "name": "stdout",
          "text": [
            "(50000, 10)\n"
          ]
        }
      ]
    },
    {
      "cell_type": "markdown",
      "metadata": {
        "id": "anG3iVoXyZGI"
      },
      "source": [
        "### Defining models\n",
        "\n",
        " Almost 30 CNN architectures were tested and out of which, 3 models were chosen to make the comparisons for \n",
        "\n",
        "*   Accuracy of the model -- Both on training and tesing dataset\n",
        "*   Prediction performance\n",
        "\n"
      ]
    },
    {
      "cell_type": "markdown",
      "source": [
        "## Three steps to Convolution\n",
        " 1. Convolution\n",
        " 2. Activation\n",
        " 3. Pooling\n",
        "* Repeat Steps 1,2,3 for adding more hidden layers\n",
        "\n",
        " 4. After that make a fully connected network\n",
        "\n",
        "### This fully connected network gives ability to the CNN  to classify the samples"
      ],
      "metadata": {
        "id": "4Onp0IoGxpVj"
      }
    },
    {
      "cell_type": "markdown",
      "source": [
        "#### Model 1 -- Simple CNN architecture with \n",
        "* Max Pooling - This will reduce the dimensionality of each feature, which reduces the number of parameters that the model needs to learn, which shortens training time\n",
        "*  Dropout layers - This fights overfitting and forces the model to learn multiple representations of the same data by randomly disabling neurons \n",
        "in the learning phase.\n",
        "* Final layer with 10 outputs and a softmax activation. Softmax activation \n",
        " enables me to calculate the output based on the probabilities. Each class is assigned a probability and the class with the maximum probability is the model’s output for the input.\n"
      ],
      "metadata": {
        "id": "Wx00uQJzwdvQ"
      }
    },
    {
      "cell_type": "code",
      "source": [
        "# Define a simple sequential model for CNN\n",
        "def create_model_1():\n",
        " \n",
        "\n",
        " # We start with a convolutional layer this will extract features from \n",
        "# the input images by sliding a convolution filter over the input image, \n",
        "# resulting in a feature map\n",
        "\n",
        " model_1 = Sequential()\n",
        "\n",
        "\n",
        " model_1.add(Conv2D(32, kernel_size=(3, 3), input_shape=x_train.shape[1:], activation =\"relu\"))\n",
        " model_1.add(MaxPooling2D(pool_size=(2, 2)))\n",
        " model_1.add(Dropout(0.3))\n",
        "\n",
        " model_1.add(Conv2D(64, kernel_size=(3, 3), input_shape=x_train.shape[1:], activation =\"relu\"))\n",
        " model_1.add(MaxPooling2D(pool_size=(2, 2)))\n",
        " model_1.add(Dropout(0.3))\n",
        "\n",
        " model_1.add(Conv2D(128, kernel_size=(3, 3), input_shape=x_train.shape[1:], activation =\"relu\"))\n",
        " model_1.add(MaxPooling2D(pool_size=(2, 2)))\n",
        " model_1.add(Dropout(0.4))\n",
        "\n",
        " model_1.add(Flatten())\n",
        " model_1.add(Dense(80, activation='relu'))\n",
        " model_1.add(Dropout(0.3))\n",
        "\n",
        " \n",
        " model_1.add(Dense(y_train_tf.shape[1], activation='softmax'))\n",
        "\n",
        "\n",
        " model_1.compile(loss=\"categorical_crossentropy\", optimizer=tf.keras.optimizers.Adam(learning_rate=l_r), metrics=['accuracy'])   # Will be using adam optimizer\n",
        "\n",
        " return model_1"
      ],
      "metadata": {
        "id": "3Ye5jM9Twen3"
      },
      "execution_count": null,
      "outputs": []
    },
    {
      "cell_type": "code",
      "source": [
        "input_shape = (32, 32, 3)\n",
        "l_r = 0.001\n",
        "weight_decay = 1e-4"
      ],
      "metadata": {
        "id": "KStqg2cgnmot"
      },
      "execution_count": null,
      "outputs": []
    },
    {
      "cell_type": "markdown",
      "metadata": {
        "id": "wynsOBfby0Pa"
      },
      "source": [
        "#### Model 2 -- CNN architecture with Max Pooling, Dropout layers, Batch normalization and Kernel regularization\n"
      ]
    },
    {
      "cell_type": "code",
      "source": [
        "# Define a simple sequential model for CNN\n",
        "def create_model_2():\n",
        " \n",
        " model_2 = Sequential()\n",
        " \n",
        " model_2.add(Conv2D(32, (3,3), padding='same',activation='relu', kernel_regularizer=regularizers.l2(weight_decay), input_shape=input_shape))\n",
        " model_2.add(BatchNormalization())\n",
        " model_2.add(Conv2D(32, (3,3), padding='same',activation='relu', kernel_regularizer=regularizers.l2(weight_decay)))\n",
        " model_2.add(BatchNormalization())\n",
        " model_2.add(MaxPooling2D(pool_size=(2,2)))\n",
        " model_2.add(Dropout(0.2))\n",
        " \n",
        " model_2.add(Conv2D(64, (3,3), padding='same',activation='relu', kernel_regularizer=regularizers.l2(weight_decay)))\n",
        " model_2.add(BatchNormalization())\n",
        " model_2.add(Conv2D(64, (3,3), padding='same',activation='relu', kernel_regularizer=regularizers.l2(weight_decay)))\n",
        " model_2.add(BatchNormalization())\n",
        " model_2.add(MaxPooling2D(pool_size=(2,2)))\n",
        " model_2.add(Dropout(0.3))\n",
        " \n",
        " model_2.add(Conv2D(128, (3,3), padding='same',activation='relu', kernel_regularizer=regularizers.l2(weight_decay)))\n",
        " model_2.add(BatchNormalization())\n",
        " model_2.add(Conv2D(128, (3,3), padding='same', activation='relu', kernel_regularizer=regularizers.l2(weight_decay)))\n",
        " model_2.add(BatchNormalization())\n",
        " model_2.add(MaxPooling2D(pool_size=(2,2)))\n",
        " model_2.add(Dropout(0.4))\n",
        " \n",
        " model_2.add(Flatten())\n",
        " model_2.add(Dense(y_train_tf.shape[1], activation='softmax'))\n",
        " \n",
        "\n",
        " model_2.compile(loss=\"categorical_crossentropy\", optimizer=tf.keras.optimizers.Adam(learning_rate=l_r), metrics=['accuracy'])\n",
        "\n",
        " return model_2\n"
      ],
      "metadata": {
        "id": "ZNkY_XP1zldf"
      },
      "execution_count": null,
      "outputs": []
    },
    {
      "cell_type": "markdown",
      "source": [
        "#### Model 3 -- CNN architecture with Max Pooling, Dropout layers, Batch normalization and Kernel regularization (With more number of neurons)\n"
      ],
      "metadata": {
        "id": "AxXvsK-GzC9u"
      }
    },
    {
      "cell_type": "code",
      "execution_count": null,
      "metadata": {
        "id": "0HZbJIjxyX1S"
      },
      "outputs": [],
      "source": [
        "# Define a simple sequential model for CNN\n",
        "def create_model_3():\n",
        " model_3 = Sequential()\n",
        "\n",
        "\n",
        "\n",
        " model_3.add(Conv2D(96, kernel_size=(3, 3), strides=(1, 1), padding='valid',\n",
        "                 activation='relu', kernel_regularizer=keras.regularizers.l2(0.001), input_shape=input_shape)) \n",
        " model_3.add(Conv2D(96, kernel_size=(3, 3), strides=(1, 1), padding='valid',activation='relu', kernel_regularizer=keras.regularizers.l2(0.001))) \n",
        " model_3.add(BatchNormalization())\n",
        " model_3.add(MaxPooling2D(pool_size=(2, 2), strides=None, padding='valid'))\n",
        " model_3.add(Dropout(0.45)) \n",
        "\n",
        " model_3.add(Conv2D(128, kernel_size=(3, 3), strides=(1, 1), padding='valid',activation='relu', kernel_regularizer=keras.regularizers.l2(0.001))) \n",
        " model_3.add(Conv2D(128, kernel_size=(3, 3), strides=(1, 1), padding='valid',activation='relu', kernel_regularizer=keras.regularizers.l2(0.001))) \n",
        " model_3.add(BatchNormalization())\n",
        " model_3.add(MaxPooling2D(pool_size=(2, 2), strides=None, padding='valid'))\n",
        " model_3.add(Dropout(0.45)) \n",
        "\n",
        " model_3.add(Conv2D(128, kernel_size=(3, 3), strides=(1, 1), padding='same', activation='relu', kernel_regularizer=keras.regularizers.l2(0.001)))\n",
        " model_3.add(Conv2D(128, kernel_size=(3, 3), strides=(1, 1), padding='valid',activation='relu', kernel_regularizer=keras.regularizers.l2(0.001))) \n",
        " model_3.add(BatchNormalization())\n",
        " model_3.add(MaxPooling2D(pool_size=(2, 2), strides=None, padding='valid'))\n",
        " model_3.add(Dropout(0.45)) \n",
        "\n",
        " model_3.add(Flatten())\n",
        " model_3.add(Dense(256, activation='relu'))\n",
        " model_3.add(Dropout(0.5))\n",
        " model_3.add(Dense(300, activation='relu'))\n",
        " model_3.add(Dropout(0.5))\n",
        " model_3.add(Dense(y_train_tf.shape[1], activation='softmax'))\n",
        "\n",
        "\n",
        " model_3.compile(loss=\"categorical_crossentropy\", optimizer=tf.keras.optimizers.Adam(learning_rate=l_r), metrics=['accuracy'])\n",
        "\n",
        " return model_3"
      ]
    },
    {
      "cell_type": "code",
      "source": [
        "# Creating models\n",
        "model_1 = create_model_1()\n",
        "model_2 = create_model_2()\n",
        "model_3 = create_model_3()\n"
      ],
      "metadata": {
        "id": "_y75eZxnz82S"
      },
      "execution_count": null,
      "outputs": []
    },
    {
      "cell_type": "code",
      "source": [
        "# Display the model's architecture\n",
        "print(model_1.summary())\n",
        "print(model_2.summary())\n",
        "print(model_3.summary())\n"
      ],
      "metadata": {
        "colab": {
          "base_uri": "https://localhost:8080/"
        },
        "id": "8Xlm3nc90P_q",
        "outputId": "f4f5de03-5712-4ba5-9479-d6092d9b3e1f"
      },
      "execution_count": null,
      "outputs": [
        {
          "output_type": "stream",
          "name": "stdout",
          "text": [
            "Model: \"sequential_7\"\n",
            "_________________________________________________________________\n",
            " Layer (type)                Output Shape              Param #   \n",
            "=================================================================\n",
            " conv2d_36 (Conv2D)          (None, 30, 30, 32)        896       \n",
            "                                                                 \n",
            " max_pooling2d_21 (MaxPoolin  (None, 15, 15, 32)       0         \n",
            " g2D)                                                            \n",
            "                                                                 \n",
            " dropout_27 (Dropout)        (None, 15, 15, 32)        0         \n",
            "                                                                 \n",
            " conv2d_37 (Conv2D)          (None, 13, 13, 64)        18496     \n",
            "                                                                 \n",
            " max_pooling2d_22 (MaxPoolin  (None, 6, 6, 64)         0         \n",
            " g2D)                                                            \n",
            "                                                                 \n",
            " dropout_28 (Dropout)        (None, 6, 6, 64)          0         \n",
            "                                                                 \n",
            " conv2d_38 (Conv2D)          (None, 4, 4, 128)         73856     \n",
            "                                                                 \n",
            " max_pooling2d_23 (MaxPoolin  (None, 2, 2, 128)        0         \n",
            " g2D)                                                            \n",
            "                                                                 \n",
            " dropout_29 (Dropout)        (None, 2, 2, 128)         0         \n",
            "                                                                 \n",
            " flatten_7 (Flatten)         (None, 512)               0         \n",
            "                                                                 \n",
            " dense_13 (Dense)            (None, 80)                41040     \n",
            "                                                                 \n",
            " dropout_30 (Dropout)        (None, 80)                0         \n",
            "                                                                 \n",
            " dense_14 (Dense)            (None, 10)                810       \n",
            "                                                                 \n",
            "=================================================================\n",
            "Total params: 135,098\n",
            "Trainable params: 135,098\n",
            "Non-trainable params: 0\n",
            "_________________________________________________________________\n",
            "None\n",
            "Model: \"sequential_8\"\n",
            "_________________________________________________________________\n",
            " Layer (type)                Output Shape              Param #   \n",
            "=================================================================\n",
            " conv2d_39 (Conv2D)          (None, 32, 32, 32)        896       \n",
            "                                                                 \n",
            " batch_normalization_24 (Bat  (None, 32, 32, 32)       128       \n",
            " chNormalization)                                                \n",
            "                                                                 \n",
            " conv2d_40 (Conv2D)          (None, 32, 32, 32)        9248      \n",
            "                                                                 \n",
            " batch_normalization_25 (Bat  (None, 32, 32, 32)       128       \n",
            " chNormalization)                                                \n",
            "                                                                 \n",
            " max_pooling2d_24 (MaxPoolin  (None, 16, 16, 32)       0         \n",
            " g2D)                                                            \n",
            "                                                                 \n",
            " dropout_31 (Dropout)        (None, 16, 16, 32)        0         \n",
            "                                                                 \n",
            " conv2d_41 (Conv2D)          (None, 16, 16, 64)        18496     \n",
            "                                                                 \n",
            " batch_normalization_26 (Bat  (None, 16, 16, 64)       256       \n",
            " chNormalization)                                                \n",
            "                                                                 \n",
            " conv2d_42 (Conv2D)          (None, 16, 16, 64)        36928     \n",
            "                                                                 \n",
            " batch_normalization_27 (Bat  (None, 16, 16, 64)       256       \n",
            " chNormalization)                                                \n",
            "                                                                 \n",
            " max_pooling2d_25 (MaxPoolin  (None, 8, 8, 64)         0         \n",
            " g2D)                                                            \n",
            "                                                                 \n",
            " dropout_32 (Dropout)        (None, 8, 8, 64)          0         \n",
            "                                                                 \n",
            " conv2d_43 (Conv2D)          (None, 8, 8, 128)         73856     \n",
            "                                                                 \n",
            " batch_normalization_28 (Bat  (None, 8, 8, 128)        512       \n",
            " chNormalization)                                                \n",
            "                                                                 \n",
            " conv2d_44 (Conv2D)          (None, 8, 8, 128)         147584    \n",
            "                                                                 \n",
            " batch_normalization_29 (Bat  (None, 8, 8, 128)        512       \n",
            " chNormalization)                                                \n",
            "                                                                 \n",
            " max_pooling2d_26 (MaxPoolin  (None, 4, 4, 128)        0         \n",
            " g2D)                                                            \n",
            "                                                                 \n",
            " dropout_33 (Dropout)        (None, 4, 4, 128)         0         \n",
            "                                                                 \n",
            " flatten_8 (Flatten)         (None, 2048)              0         \n",
            "                                                                 \n",
            " dense_15 (Dense)            (None, 10)                20490     \n",
            "                                                                 \n",
            "=================================================================\n",
            "Total params: 309,290\n",
            "Trainable params: 308,394\n",
            "Non-trainable params: 896\n",
            "_________________________________________________________________\n",
            "None\n",
            "Model: \"sequential_9\"\n",
            "_________________________________________________________________\n",
            " Layer (type)                Output Shape              Param #   \n",
            "=================================================================\n",
            " conv2d_45 (Conv2D)          (None, 30, 30, 96)        2688      \n",
            "                                                                 \n",
            " conv2d_46 (Conv2D)          (None, 28, 28, 96)        83040     \n",
            "                                                                 \n",
            " batch_normalization_30 (Bat  (None, 28, 28, 96)       384       \n",
            " chNormalization)                                                \n",
            "                                                                 \n",
            " max_pooling2d_27 (MaxPoolin  (None, 14, 14, 96)       0         \n",
            " g2D)                                                            \n",
            "                                                                 \n",
            " dropout_34 (Dropout)        (None, 14, 14, 96)        0         \n",
            "                                                                 \n",
            " conv2d_47 (Conv2D)          (None, 12, 12, 128)       110720    \n",
            "                                                                 \n",
            " conv2d_48 (Conv2D)          (None, 10, 10, 128)       147584    \n",
            "                                                                 \n",
            " batch_normalization_31 (Bat  (None, 10, 10, 128)      512       \n",
            " chNormalization)                                                \n",
            "                                                                 \n",
            " max_pooling2d_28 (MaxPoolin  (None, 5, 5, 128)        0         \n",
            " g2D)                                                            \n",
            "                                                                 \n",
            " dropout_35 (Dropout)        (None, 5, 5, 128)         0         \n",
            "                                                                 \n",
            " conv2d_49 (Conv2D)          (None, 5, 5, 128)         147584    \n",
            "                                                                 \n",
            " conv2d_50 (Conv2D)          (None, 3, 3, 128)         147584    \n",
            "                                                                 \n",
            " batch_normalization_32 (Bat  (None, 3, 3, 128)        512       \n",
            " chNormalization)                                                \n",
            "                                                                 \n",
            " max_pooling2d_29 (MaxPoolin  (None, 1, 1, 128)        0         \n",
            " g2D)                                                            \n",
            "                                                                 \n",
            " dropout_36 (Dropout)        (None, 1, 1, 128)         0         \n",
            "                                                                 \n",
            " flatten_9 (Flatten)         (None, 128)               0         \n",
            "                                                                 \n",
            " dense_16 (Dense)            (None, 256)               33024     \n",
            "                                                                 \n",
            " dropout_37 (Dropout)        (None, 256)               0         \n",
            "                                                                 \n",
            " dense_17 (Dense)            (None, 300)               77100     \n",
            "                                                                 \n",
            " dropout_38 (Dropout)        (None, 300)               0         \n",
            "                                                                 \n",
            " dense_18 (Dense)            (None, 10)                3010      \n",
            "                                                                 \n",
            "=================================================================\n",
            "Total params: 753,742\n",
            "Trainable params: 753,038\n",
            "Non-trainable params: 704\n",
            "_________________________________________________________________\n",
            "None\n"
          ]
        }
      ]
    },
    {
      "cell_type": "markdown",
      "metadata": {
        "id": "soDE0W_KH8rG"
      },
      "source": [
        "## Save checkpoints during training"
      ]
    },
    {
      "cell_type": "markdown",
      "metadata": {
        "id": "mRyd5qQQIXZm"
      },
      "source": [
        "####  Creating a `ModelCheckpoint` callback that saves weights only during training and `EarlyStopping` callback to save the model once conditions are met "
      ]
    },
    {
      "cell_type": "code",
      "execution_count": null,
      "metadata": {
        "id": "IFPuhwntH8VH",
        "outputId": "8014ffed-bbe1-48de-f8df-6cf0862dff31",
        "colab": {
          "base_uri": "https://localhost:8080/"
        }
      },
      "outputs": [
        {
          "output_type": "stream",
          "name": "stdout",
          "text": [
            "Epoch 1/100\n",
            "309/313 [============================>.] - ETA: 0s - loss: 1.9526 - accuracy: 0.2658\n",
            "Epoch 1: saving model to training_2_m1/cp.ckpt\n",
            "313/313 [==============================] - 3s 9ms/step - loss: 1.9502 - accuracy: 0.2669 - val_loss: 1.6236 - val_accuracy: 0.4135\n",
            "Epoch 2/100\n",
            "309/313 [============================>.] - ETA: 0s - loss: 1.5807 - accuracy: 0.4204\n",
            "Epoch 2: saving model to training_2_m1/cp.ckpt\n",
            "313/313 [==============================] - 3s 8ms/step - loss: 1.5795 - accuracy: 0.4209 - val_loss: 1.4097 - val_accuracy: 0.4962\n",
            "Epoch 3/100\n",
            "307/313 [============================>.] - ETA: 0s - loss: 1.4454 - accuracy: 0.4749\n",
            "Epoch 3: saving model to training_2_m1/cp.ckpt\n",
            "313/313 [==============================] - 3s 11ms/step - loss: 1.4443 - accuracy: 0.4753 - val_loss: 1.2969 - val_accuracy: 0.5422\n",
            "Epoch 4/100\n",
            "307/313 [============================>.] - ETA: 0s - loss: 1.3711 - accuracy: 0.5048\n",
            "Epoch 4: saving model to training_2_m1/cp.ckpt\n",
            "313/313 [==============================] - 4s 12ms/step - loss: 1.3704 - accuracy: 0.5049 - val_loss: 1.2308 - val_accuracy: 0.5622\n",
            "Epoch 5/100\n",
            "312/313 [============================>.] - ETA: 0s - loss: 1.2940 - accuracy: 0.5360\n",
            "Epoch 5: saving model to training_2_m1/cp.ckpt\n",
            "313/313 [==============================] - 4s 11ms/step - loss: 1.2939 - accuracy: 0.5359 - val_loss: 1.1394 - val_accuracy: 0.6112\n",
            "Epoch 6/100\n",
            "312/313 [============================>.] - ETA: 0s - loss: 1.2460 - accuracy: 0.5561\n",
            "Epoch 6: saving model to training_2_m1/cp.ckpt\n",
            "313/313 [==============================] - 4s 11ms/step - loss: 1.2458 - accuracy: 0.5561 - val_loss: 1.1330 - val_accuracy: 0.5966\n",
            "Epoch 7/100\n",
            "308/313 [============================>.] - ETA: 0s - loss: 1.2096 - accuracy: 0.5688\n",
            "Epoch 7: saving model to training_2_m1/cp.ckpt\n",
            "313/313 [==============================] - 3s 11ms/step - loss: 1.2088 - accuracy: 0.5695 - val_loss: 1.0795 - val_accuracy: 0.6175\n",
            "Epoch 8/100\n",
            "312/313 [============================>.] - ETA: 0s - loss: 1.1738 - accuracy: 0.5847\n",
            "Epoch 8: saving model to training_2_m1/cp.ckpt\n",
            "313/313 [==============================] - 3s 11ms/step - loss: 1.1737 - accuracy: 0.5847 - val_loss: 1.0349 - val_accuracy: 0.6448\n",
            "Epoch 9/100\n",
            "305/313 [============================>.] - ETA: 0s - loss: 1.1383 - accuracy: 0.5973\n",
            "Epoch 9: saving model to training_2_m1/cp.ckpt\n",
            "313/313 [==============================] - 2s 7ms/step - loss: 1.1384 - accuracy: 0.5972 - val_loss: 1.0074 - val_accuracy: 0.6522\n",
            "Epoch 10/100\n",
            "308/313 [============================>.] - ETA: 0s - loss: 1.1072 - accuracy: 0.6091\n",
            "Epoch 10: saving model to training_2_m1/cp.ckpt\n",
            "313/313 [==============================] - 2s 7ms/step - loss: 1.1079 - accuracy: 0.6089 - val_loss: 0.9825 - val_accuracy: 0.6653\n",
            "Epoch 11/100\n",
            "306/313 [============================>.] - ETA: 0s - loss: 1.0865 - accuracy: 0.6166\n",
            "Epoch 11: saving model to training_2_m1/cp.ckpt\n",
            "313/313 [==============================] - 2s 8ms/step - loss: 1.0864 - accuracy: 0.6166 - val_loss: 0.9528 - val_accuracy: 0.6693\n",
            "Epoch 12/100\n",
            "309/313 [============================>.] - ETA: 0s - loss: 1.0611 - accuracy: 0.6263\n",
            "Epoch 12: saving model to training_2_m1/cp.ckpt\n",
            "313/313 [==============================] - 2s 8ms/step - loss: 1.0612 - accuracy: 0.6261 - val_loss: 0.9361 - val_accuracy: 0.6783\n",
            "Epoch 13/100\n",
            "312/313 [============================>.] - ETA: 0s - loss: 1.0424 - accuracy: 0.6326\n",
            "Epoch 13: saving model to training_2_m1/cp.ckpt\n",
            "313/313 [==============================] - 3s 9ms/step - loss: 1.0421 - accuracy: 0.6326 - val_loss: 0.9135 - val_accuracy: 0.6829\n",
            "Epoch 14/100\n",
            "307/313 [============================>.] - ETA: 0s - loss: 1.0331 - accuracy: 0.6380\n",
            "Epoch 14: saving model to training_2_m1/cp.ckpt\n",
            "313/313 [==============================] - 2s 8ms/step - loss: 1.0332 - accuracy: 0.6377 - val_loss: 0.9283 - val_accuracy: 0.6763\n",
            "Epoch 15/100\n",
            "312/313 [============================>.] - ETA: 0s - loss: 1.0108 - accuracy: 0.6472\n",
            "Epoch 15: saving model to training_2_m1/cp.ckpt\n",
            "313/313 [==============================] - 2s 7ms/step - loss: 1.0112 - accuracy: 0.6471 - val_loss: 0.8841 - val_accuracy: 0.6944\n",
            "Epoch 16/100\n",
            "310/313 [============================>.] - ETA: 0s - loss: 1.0008 - accuracy: 0.6489\n",
            "Epoch 16: saving model to training_2_m1/cp.ckpt\n",
            "313/313 [==============================] - 2s 8ms/step - loss: 1.0005 - accuracy: 0.6491 - val_loss: 0.8693 - val_accuracy: 0.6967\n",
            "Epoch 17/100\n",
            "311/313 [============================>.] - ETA: 0s - loss: 0.9794 - accuracy: 0.6583\n",
            "Epoch 17: saving model to training_2_m1/cp.ckpt\n",
            "313/313 [==============================] - 2s 8ms/step - loss: 0.9792 - accuracy: 0.6583 - val_loss: 0.8523 - val_accuracy: 0.7047\n",
            "Epoch 18/100\n",
            "307/313 [============================>.] - ETA: 0s - loss: 0.9783 - accuracy: 0.6554\n",
            "Epoch 18: saving model to training_2_m1/cp.ckpt\n",
            "313/313 [==============================] - 2s 8ms/step - loss: 0.9798 - accuracy: 0.6547 - val_loss: 0.8726 - val_accuracy: 0.6995\n",
            "Epoch 19/100\n",
            "309/313 [============================>.] - ETA: 0s - loss: 0.9676 - accuracy: 0.6593\n",
            "Epoch 19: saving model to training_2_m1/cp.ckpt\n",
            "313/313 [==============================] - 2s 8ms/step - loss: 0.9684 - accuracy: 0.6590 - val_loss: 0.8129 - val_accuracy: 0.7227\n",
            "Epoch 20/100\n",
            "307/313 [============================>.] - ETA: 0s - loss: 0.9624 - accuracy: 0.6609\n",
            "Epoch 20: saving model to training_2_m1/cp.ckpt\n",
            "313/313 [==============================] - 2s 8ms/step - loss: 0.9630 - accuracy: 0.6610 - val_loss: 0.8165 - val_accuracy: 0.7151\n",
            "Epoch 21/100\n",
            "306/313 [============================>.] - ETA: 0s - loss: 0.9370 - accuracy: 0.6707\n",
            "Epoch 21: saving model to training_2_m1/cp.ckpt\n",
            "313/313 [==============================] - 2s 8ms/step - loss: 0.9364 - accuracy: 0.6710 - val_loss: 0.8020 - val_accuracy: 0.7191\n",
            "Epoch 22/100\n",
            "306/313 [============================>.] - ETA: 0s - loss: 0.9365 - accuracy: 0.6724\n",
            "Epoch 22: saving model to training_2_m1/cp.ckpt\n",
            "313/313 [==============================] - 2s 7ms/step - loss: 0.9369 - accuracy: 0.6722 - val_loss: 0.8001 - val_accuracy: 0.7251\n",
            "Epoch 23/100\n",
            "308/313 [============================>.] - ETA: 0s - loss: 0.9288 - accuracy: 0.6741\n",
            "Epoch 23: saving model to training_2_m1/cp.ckpt\n",
            "313/313 [==============================] - 2s 8ms/step - loss: 0.9272 - accuracy: 0.6749 - val_loss: 0.8450 - val_accuracy: 0.7004\n",
            "Epoch 24/100\n",
            "312/313 [============================>.] - ETA: 0s - loss: 0.9153 - accuracy: 0.6794\n",
            "Epoch 24: saving model to training_2_m1/cp.ckpt\n",
            "313/313 [==============================] - 2s 8ms/step - loss: 0.9160 - accuracy: 0.6792 - val_loss: 0.8060 - val_accuracy: 0.7169\n",
            "Epoch 25/100\n",
            "310/313 [============================>.] - ETA: 0s - loss: 0.9124 - accuracy: 0.6799\n",
            "Epoch 25: saving model to training_2_m1/cp.ckpt\n",
            "313/313 [==============================] - 2s 7ms/step - loss: 0.9127 - accuracy: 0.6798 - val_loss: 0.7807 - val_accuracy: 0.7303\n",
            "Epoch 26/100\n",
            "309/313 [============================>.] - ETA: 0s - loss: 0.9127 - accuracy: 0.6821\n",
            "Epoch 26: saving model to training_2_m1/cp.ckpt\n",
            "313/313 [==============================] - 2s 7ms/step - loss: 0.9125 - accuracy: 0.6824 - val_loss: 0.7732 - val_accuracy: 0.7311\n",
            "Epoch 27/100\n",
            "306/313 [============================>.] - ETA: 0s - loss: 0.9031 - accuracy: 0.6852\n",
            "Epoch 27: saving model to training_2_m1/cp.ckpt\n",
            "313/313 [==============================] - 2s 7ms/step - loss: 0.9037 - accuracy: 0.6851 - val_loss: 0.7787 - val_accuracy: 0.7349\n",
            "Epoch 28/100\n",
            "309/313 [============================>.] - ETA: 0s - loss: 0.8916 - accuracy: 0.6895\n",
            "Epoch 28: saving model to training_2_m1/cp.ckpt\n",
            "313/313 [==============================] - 2s 8ms/step - loss: 0.8905 - accuracy: 0.6895 - val_loss: 0.7767 - val_accuracy: 0.7311\n",
            "Epoch 29/100\n",
            "310/313 [============================>.] - ETA: 0s - loss: 0.8889 - accuracy: 0.6903\n",
            "Epoch 29: saving model to training_2_m1/cp.ckpt\n",
            "313/313 [==============================] - 2s 8ms/step - loss: 0.8892 - accuracy: 0.6902 - val_loss: 0.7865 - val_accuracy: 0.7209\n",
            "Epoch 30/100\n",
            "312/313 [============================>.] - ETA: 0s - loss: 0.8870 - accuracy: 0.6915\n",
            "Epoch 30: saving model to training_2_m1/cp.ckpt\n",
            "313/313 [==============================] - 2s 8ms/step - loss: 0.8865 - accuracy: 0.6916 - val_loss: 0.7707 - val_accuracy: 0.7286\n",
            "Epoch 31/100\n",
            "312/313 [============================>.] - ETA: 0s - loss: 0.8729 - accuracy: 0.6946\n",
            "Epoch 31: saving model to training_2_m1/cp.ckpt\n",
            "313/313 [==============================] - 2s 7ms/step - loss: 0.8730 - accuracy: 0.6945 - val_loss: 0.7926 - val_accuracy: 0.7246\n",
            "Epoch 32/100\n",
            "313/313 [==============================] - ETA: 0s - loss: 0.8726 - accuracy: 0.6954\n",
            "Epoch 32: saving model to training_2_m1/cp.ckpt\n",
            "313/313 [==============================] - 2s 7ms/step - loss: 0.8726 - accuracy: 0.6954 - val_loss: 0.7773 - val_accuracy: 0.7296\n",
            "Epoch 33/100\n",
            "313/313 [==============================] - ETA: 0s - loss: 0.8619 - accuracy: 0.6971\n",
            "Epoch 33: saving model to training_2_m1/cp.ckpt\n",
            "313/313 [==============================] - 2s 7ms/step - loss: 0.8619 - accuracy: 0.6971 - val_loss: 0.7696 - val_accuracy: 0.7351\n",
            "Epoch 34/100\n",
            "309/313 [============================>.] - ETA: 0s - loss: 0.8579 - accuracy: 0.7007\n",
            "Epoch 34: saving model to training_2_m1/cp.ckpt\n",
            "313/313 [==============================] - 2s 7ms/step - loss: 0.8584 - accuracy: 0.7007 - val_loss: 0.7775 - val_accuracy: 0.7268\n",
            "Epoch 35/100\n",
            "311/313 [============================>.] - ETA: 0s - loss: 0.8487 - accuracy: 0.7029\n",
            "Epoch 35: saving model to training_2_m1/cp.ckpt\n",
            "313/313 [==============================] - 2s 8ms/step - loss: 0.8488 - accuracy: 0.7028 - val_loss: 0.7458 - val_accuracy: 0.7381\n",
            "Epoch 36/100\n",
            "312/313 [============================>.] - ETA: 0s - loss: 0.8472 - accuracy: 0.7041\n",
            "Epoch 36: saving model to training_2_m1/cp.ckpt\n",
            "313/313 [==============================] - 2s 8ms/step - loss: 0.8473 - accuracy: 0.7041 - val_loss: 0.7357 - val_accuracy: 0.7415\n",
            "Epoch 37/100\n",
            "311/313 [============================>.] - ETA: 0s - loss: 0.8473 - accuracy: 0.7013\n",
            "Epoch 37: saving model to training_2_m1/cp.ckpt\n",
            "313/313 [==============================] - 2s 8ms/step - loss: 0.8467 - accuracy: 0.7014 - val_loss: 0.7455 - val_accuracy: 0.7415\n",
            "Epoch 38/100\n",
            "312/313 [============================>.] - ETA: 0s - loss: 0.8435 - accuracy: 0.7047\n",
            "Epoch 38: saving model to training_2_m1/cp.ckpt\n",
            "313/313 [==============================] - 2s 7ms/step - loss: 0.8434 - accuracy: 0.7048 - val_loss: 0.7539 - val_accuracy: 0.7370\n",
            "Epoch 39/100\n",
            "309/313 [============================>.] - ETA: 0s - loss: 0.8386 - accuracy: 0.7047\n",
            "Epoch 39: saving model to training_2_m1/cp.ckpt\n",
            "313/313 [==============================] - 2s 8ms/step - loss: 0.8383 - accuracy: 0.7048 - val_loss: 0.7164 - val_accuracy: 0.7497\n",
            "Epoch 40/100\n",
            "306/313 [============================>.] - ETA: 0s - loss: 0.8395 - accuracy: 0.7082\n",
            "Epoch 40: saving model to training_2_m1/cp.ckpt\n",
            "313/313 [==============================] - 2s 8ms/step - loss: 0.8394 - accuracy: 0.7081 - val_loss: 0.7360 - val_accuracy: 0.7445\n",
            "Epoch 41/100\n",
            "310/313 [============================>.] - ETA: 0s - loss: 0.8319 - accuracy: 0.7076\n",
            "Epoch 41: saving model to training_2_m1/cp.ckpt\n",
            "313/313 [==============================] - 2s 8ms/step - loss: 0.8313 - accuracy: 0.7077 - val_loss: 0.7163 - val_accuracy: 0.7566\n",
            "Epoch 42/100\n",
            "310/313 [============================>.] - ETA: 0s - loss: 0.8264 - accuracy: 0.7110\n",
            "Epoch 42: saving model to training_2_m1/cp.ckpt\n",
            "313/313 [==============================] - 2s 7ms/step - loss: 0.8268 - accuracy: 0.7111 - val_loss: 0.7455 - val_accuracy: 0.7386\n",
            "Epoch 43/100\n",
            "307/313 [============================>.] - ETA: 0s - loss: 0.8143 - accuracy: 0.7175\n",
            "Epoch 43: saving model to training_2_m1/cp.ckpt\n",
            "313/313 [==============================] - 2s 8ms/step - loss: 0.8155 - accuracy: 0.7174 - val_loss: 0.7166 - val_accuracy: 0.7535\n",
            "Epoch 44/100\n",
            "307/313 [============================>.] - ETA: 0s - loss: 0.8245 - accuracy: 0.7094\n",
            "Epoch 44: saving model to training_2_m1/cp.ckpt\n",
            "313/313 [==============================] - 2s 8ms/step - loss: 0.8249 - accuracy: 0.7091 - val_loss: 0.7240 - val_accuracy: 0.7505\n",
            "Epoch 45/100\n",
            "308/313 [============================>.] - ETA: 0s - loss: 0.8223 - accuracy: 0.7103\n",
            "Epoch 45: saving model to training_2_m1/cp.ckpt\n",
            "313/313 [==============================] - 2s 7ms/step - loss: 0.8228 - accuracy: 0.7100 - val_loss: 0.7106 - val_accuracy: 0.7534\n",
            "Epoch 46/100\n",
            "311/313 [============================>.] - ETA: 0s - loss: 0.8238 - accuracy: 0.7119\n",
            "Epoch 46: saving model to training_2_m1/cp.ckpt\n",
            "313/313 [==============================] - 2s 8ms/step - loss: 0.8241 - accuracy: 0.7117 - val_loss: 0.7034 - val_accuracy: 0.7539\n",
            "Epoch 47/100\n",
            "308/313 [============================>.] - ETA: 0s - loss: 0.8145 - accuracy: 0.7124\n",
            "Epoch 47: saving model to training_2_m1/cp.ckpt\n",
            "313/313 [==============================] - 2s 8ms/step - loss: 0.8146 - accuracy: 0.7124 - val_loss: 0.7405 - val_accuracy: 0.7398\n",
            "Epoch 48/100\n",
            "308/313 [============================>.] - ETA: 0s - loss: 0.8105 - accuracy: 0.7152\n",
            "Epoch 48: saving model to training_2_m1/cp.ckpt\n",
            "313/313 [==============================] - 2s 8ms/step - loss: 0.8100 - accuracy: 0.7153 - val_loss: 0.7011 - val_accuracy: 0.7573\n",
            "Epoch 49/100\n",
            "313/313 [==============================] - ETA: 0s - loss: 0.8154 - accuracy: 0.7151\n",
            "Epoch 49: saving model to training_2_m1/cp.ckpt\n",
            "313/313 [==============================] - 3s 8ms/step - loss: 0.8154 - accuracy: 0.7151 - val_loss: 0.6969 - val_accuracy: 0.7597\n",
            "Epoch 50/100\n",
            "310/313 [============================>.] - ETA: 0s - loss: 0.8052 - accuracy: 0.7170\n",
            "Epoch 50: saving model to training_2_m1/cp.ckpt\n",
            "313/313 [==============================] - 3s 9ms/step - loss: 0.8056 - accuracy: 0.7167 - val_loss: 0.6954 - val_accuracy: 0.7573\n",
            "Epoch 51/100\n",
            "310/313 [============================>.] - ETA: 0s - loss: 0.8095 - accuracy: 0.7165\n",
            "Epoch 51: saving model to training_2_m1/cp.ckpt\n",
            "313/313 [==============================] - 2s 8ms/step - loss: 0.8087 - accuracy: 0.7168 - val_loss: 0.6995 - val_accuracy: 0.7601\n",
            "Epoch 52/100\n",
            "308/313 [============================>.] - ETA: 0s - loss: 0.8074 - accuracy: 0.7189\n",
            "Epoch 52: saving model to training_2_m1/cp.ckpt\n",
            "313/313 [==============================] - 2s 8ms/step - loss: 0.8065 - accuracy: 0.7191 - val_loss: 0.7151 - val_accuracy: 0.7503\n",
            "Epoch 53/100\n",
            "310/313 [============================>.] - ETA: 0s - loss: 0.7986 - accuracy: 0.7212\n",
            "Epoch 53: saving model to training_2_m1/cp.ckpt\n",
            "313/313 [==============================] - 2s 8ms/step - loss: 0.7988 - accuracy: 0.7213 - val_loss: 0.6960 - val_accuracy: 0.7611\n",
            "Epoch 54/100\n",
            "307/313 [============================>.] - ETA: 0s - loss: 0.7890 - accuracy: 0.7253\n",
            "Epoch 54: saving model to training_2_m1/cp.ckpt\n",
            "313/313 [==============================] - 2s 8ms/step - loss: 0.7897 - accuracy: 0.7251 - val_loss: 0.7072 - val_accuracy: 0.7526\n",
            "Epoch 55/100\n",
            "312/313 [============================>.] - ETA: 0s - loss: 0.7926 - accuracy: 0.7230\n",
            "Epoch 55: saving model to training_2_m1/cp.ckpt\n",
            "313/313 [==============================] - 2s 8ms/step - loss: 0.7930 - accuracy: 0.7229 - val_loss: 0.7038 - val_accuracy: 0.7553\n",
            "Epoch 56/100\n",
            "312/313 [============================>.] - ETA: 0s - loss: 0.7911 - accuracy: 0.7249\n",
            "Epoch 56: saving model to training_2_m1/cp.ckpt\n",
            "313/313 [==============================] - 3s 8ms/step - loss: 0.7912 - accuracy: 0.7249 - val_loss: 0.7031 - val_accuracy: 0.7553\n",
            "Epoch 57/100\n",
            "309/313 [============================>.] - ETA: 0s - loss: 0.7841 - accuracy: 0.7271\n",
            "Epoch 57: saving model to training_2_m1/cp.ckpt\n",
            "313/313 [==============================] - 2s 8ms/step - loss: 0.7848 - accuracy: 0.7270 - val_loss: 0.6775 - val_accuracy: 0.7685\n",
            "Epoch 58/100\n",
            "309/313 [============================>.] - ETA: 0s - loss: 0.7904 - accuracy: 0.7233\n",
            "Epoch 58: saving model to training_2_m1/cp.ckpt\n",
            "313/313 [==============================] - 2s 8ms/step - loss: 0.7904 - accuracy: 0.7234 - val_loss: 0.6850 - val_accuracy: 0.7634\n",
            "Epoch 59/100\n",
            "307/313 [============================>.] - ETA: 0s - loss: 0.7864 - accuracy: 0.7238\n",
            "Epoch 59: saving model to training_2_m1/cp.ckpt\n",
            "313/313 [==============================] - 3s 9ms/step - loss: 0.7867 - accuracy: 0.7235 - val_loss: 0.6782 - val_accuracy: 0.7634\n",
            "Epoch 60/100\n",
            "313/313 [==============================] - ETA: 0s - loss: 0.7871 - accuracy: 0.7246\n",
            "Epoch 60: saving model to training_2_m1/cp.ckpt\n",
            "313/313 [==============================] - 2s 8ms/step - loss: 0.7871 - accuracy: 0.7246 - val_loss: 0.6953 - val_accuracy: 0.7548\n",
            "Epoch 61/100\n",
            "310/313 [============================>.] - ETA: 0s - loss: 0.7850 - accuracy: 0.7246\n",
            "Epoch 61: saving model to training_2_m1/cp.ckpt\n",
            "313/313 [==============================] - 2s 8ms/step - loss: 0.7847 - accuracy: 0.7245 - val_loss: 0.6809 - val_accuracy: 0.7664\n",
            "Epoch 62/100\n",
            "311/313 [============================>.] - ETA: 0s - loss: 0.7833 - accuracy: 0.7260\n",
            "Epoch 62: saving model to training_2_m1/cp.ckpt\n",
            "313/313 [==============================] - 2s 8ms/step - loss: 0.7830 - accuracy: 0.7262 - val_loss: 0.6902 - val_accuracy: 0.7590\n",
            "Epoch 63/100\n",
            "310/313 [============================>.] - ETA: 0s - loss: 0.7777 - accuracy: 0.7275\n",
            "Epoch 63: saving model to training_2_m1/cp.ckpt\n",
            "313/313 [==============================] - 2s 8ms/step - loss: 0.7775 - accuracy: 0.7278 - val_loss: 0.6838 - val_accuracy: 0.7656\n",
            "Epoch 64/100\n",
            "309/313 [============================>.] - ETA: 0s - loss: 0.7828 - accuracy: 0.7257\n",
            "Epoch 64: saving model to training_2_m1/cp.ckpt\n",
            "313/313 [==============================] - 2s 8ms/step - loss: 0.7835 - accuracy: 0.7257 - val_loss: 0.6976 - val_accuracy: 0.7630\n",
            "Epoch 65/100\n",
            "312/313 [============================>.] - ETA: 0s - loss: 0.7721 - accuracy: 0.7315\n",
            "Epoch 65: saving model to training_2_m1/cp.ckpt\n",
            "313/313 [==============================] - 3s 8ms/step - loss: 0.7720 - accuracy: 0.7316 - val_loss: 0.6875 - val_accuracy: 0.7637\n",
            "Epoch 66/100\n",
            "307/313 [============================>.] - ETA: 0s - loss: 0.7703 - accuracy: 0.7305\n",
            "Epoch 66: saving model to training_2_m1/cp.ckpt\n",
            "313/313 [==============================] - 2s 8ms/step - loss: 0.7702 - accuracy: 0.7308 - val_loss: 0.6646 - val_accuracy: 0.7704\n",
            "Epoch 67/100\n",
            "312/313 [============================>.] - ETA: 0s - loss: 0.7680 - accuracy: 0.7302\n",
            "Epoch 67: saving model to training_2_m1/cp.ckpt\n",
            "313/313 [==============================] - 2s 8ms/step - loss: 0.7681 - accuracy: 0.7301 - val_loss: 0.6696 - val_accuracy: 0.7703\n",
            "Epoch 68/100\n",
            "313/313 [==============================] - ETA: 0s - loss: 0.7707 - accuracy: 0.7314\n",
            "Epoch 68: saving model to training_2_m1/cp.ckpt\n",
            "313/313 [==============================] - 3s 8ms/step - loss: 0.7707 - accuracy: 0.7314 - val_loss: 0.6716 - val_accuracy: 0.7691\n",
            "Epoch 69/100\n",
            "306/313 [============================>.] - ETA: 0s - loss: 0.7639 - accuracy: 0.7345\n",
            "Epoch 69: saving model to training_2_m1/cp.ckpt\n",
            "313/313 [==============================] - 2s 8ms/step - loss: 0.7651 - accuracy: 0.7343 - val_loss: 0.7068 - val_accuracy: 0.7557\n",
            "Epoch 70/100\n",
            "308/313 [============================>.] - ETA: 0s - loss: 0.7645 - accuracy: 0.7322\n",
            "Epoch 70: saving model to training_2_m1/cp.ckpt\n",
            "313/313 [==============================] - 2s 8ms/step - loss: 0.7644 - accuracy: 0.7320 - val_loss: 0.6670 - val_accuracy: 0.7707\n",
            "Epoch 71/100\n",
            "311/313 [============================>.] - ETA: 0s - loss: 0.7595 - accuracy: 0.7355\n",
            "Epoch 71: saving model to training_2_m1/cp.ckpt\n",
            "313/313 [==============================] - 2s 8ms/step - loss: 0.7592 - accuracy: 0.7354 - val_loss: 0.6837 - val_accuracy: 0.7631\n",
            "Epoch 72/100\n",
            "312/313 [============================>.] - ETA: 0s - loss: 0.7633 - accuracy: 0.7348\n",
            "Epoch 72: saving model to training_2_m1/cp.ckpt\n",
            "313/313 [==============================] - 2s 8ms/step - loss: 0.7632 - accuracy: 0.7347 - val_loss: 0.6796 - val_accuracy: 0.7655\n",
            "Epoch 73/100\n",
            "310/313 [============================>.] - ETA: 0s - loss: 0.7637 - accuracy: 0.7323\n",
            "Epoch 73: saving model to training_2_m1/cp.ckpt\n",
            "313/313 [==============================] - 3s 10ms/step - loss: 0.7624 - accuracy: 0.7329 - val_loss: 0.6660 - val_accuracy: 0.7716\n",
            "Epoch 74/100\n",
            "312/313 [============================>.] - ETA: 0s - loss: 0.7611 - accuracy: 0.7352\n",
            "Epoch 74: saving model to training_2_m1/cp.ckpt\n",
            "313/313 [==============================] - 2s 8ms/step - loss: 0.7613 - accuracy: 0.7351 - val_loss: 0.6710 - val_accuracy: 0.7683\n",
            "Epoch 75/100\n",
            "312/313 [============================>.] - ETA: 0s - loss: 0.7592 - accuracy: 0.7339\n",
            "Epoch 75: saving model to training_2_m1/cp.ckpt\n",
            "313/313 [==============================] - 2s 8ms/step - loss: 0.7594 - accuracy: 0.7338 - val_loss: 0.6753 - val_accuracy: 0.7675\n",
            "Epoch 76/100\n",
            "307/313 [============================>.] - ETA: 0s - loss: 0.7574 - accuracy: 0.7331\n",
            "Epoch 76: saving model to training_2_m1/cp.ckpt\n",
            "313/313 [==============================] - 2s 8ms/step - loss: 0.7570 - accuracy: 0.7332 - val_loss: 0.6787 - val_accuracy: 0.7647\n",
            "Epoch 76: early stopping\n"
          ]
        }
      ],
      "source": [
        "checkpoint_path_1 = \"training_2_m1/cp.ckpt\"\n",
        "checkpoint_dir_1 = os.path.dirname(checkpoint_path_1)\n",
        "\n",
        "# Create a callback that saves the model's weights\n",
        "cp_callback = ModelCheckpoint(filepath=checkpoint_path_1,\n",
        "                                                 save_weights_only=True,\n",
        "                                                 verbose=1)\n",
        "es = EarlyStopping(monitor='val_loss', min_delta=1e-5, patience = 10, verbose=1, mode='auto')\n",
        "\n",
        "\n",
        "\n",
        "# Train the model with the new callback\n",
        "history_1 = model_1.fit(train_images, \n",
        "          y_train_tf,  \n",
        "          validation_split = 0.2,\n",
        "          verbose=1,\n",
        "          epochs=100,\n",
        "          batch_size=128, \n",
        "          callbacks=[cp_callback,es],  # Pass callback to training\n",
        "          shuffle= True) "
      ]
    },
    {
      "cell_type": "code",
      "source": [
        "checkpoint_path_2 = \"training_2_m2/cp.ckpt\"\n",
        "checkpoint_dir_2 = os.path.dirname(checkpoint_path_2)\n",
        "\n",
        "# Create a callback that saves the model's weights\n",
        "cp_callback = ModelCheckpoint(filepath=checkpoint_path_2,\n",
        "                                                 save_weights_only=True,\n",
        "                                                 verbose=1)\n",
        "es = EarlyStopping(monitor='val_loss', min_delta=1e-5, patience = 10, verbose=1, mode='auto')\n",
        "\n",
        "\n",
        "\n",
        "# Train the model with the new callback\n",
        "history_2 = model_2.fit(train_images, \n",
        "          y_train_tf,  \n",
        "          validation_split = 0.2,\n",
        "          verbose=1,\n",
        "          epochs=100,\n",
        "          batch_size=128, \n",
        "          callbacks=[cp_callback,es],\n",
        "          shuffle= True) "
      ],
      "metadata": {
        "colab": {
          "base_uri": "https://localhost:8080/"
        },
        "id": "pBsR_WF510Py",
        "outputId": "bbc6b605-7cef-4f63-bc29-d3ca07f9e4f0"
      },
      "execution_count": null,
      "outputs": [
        {
          "output_type": "stream",
          "name": "stdout",
          "text": [
            "Epoch 1/100\n",
            "312/313 [============================>.] - ETA: 0s - loss: 1.9819 - accuracy: 0.4110\n",
            "Epoch 1: saving model to training_2_m2/cp.ckpt\n",
            "313/313 [==============================] - 7s 18ms/step - loss: 1.9816 - accuracy: 0.4110 - val_loss: 3.4004 - val_accuracy: 0.1404\n",
            "Epoch 2/100\n",
            "313/313 [==============================] - ETA: 0s - loss: 1.3518 - accuracy: 0.5728\n",
            "Epoch 2: saving model to training_2_m2/cp.ckpt\n",
            "313/313 [==============================] - 5s 18ms/step - loss: 1.3518 - accuracy: 0.5728 - val_loss: 1.1637 - val_accuracy: 0.6269\n",
            "Epoch 3/100\n",
            "310/313 [============================>.] - ETA: 0s - loss: 1.1091 - accuracy: 0.6473\n",
            "Epoch 3: saving model to training_2_m2/cp.ckpt\n",
            "313/313 [==============================] - 5s 17ms/step - loss: 1.1094 - accuracy: 0.6474 - val_loss: 0.9860 - val_accuracy: 0.6834\n",
            "Epoch 4/100\n",
            "310/313 [============================>.] - ETA: 0s - loss: 0.9515 - accuracy: 0.6961\n",
            "Epoch 4: saving model to training_2_m2/cp.ckpt\n",
            "313/313 [==============================] - 5s 17ms/step - loss: 0.9517 - accuracy: 0.6959 - val_loss: 0.9560 - val_accuracy: 0.6944\n",
            "Epoch 5/100\n",
            "311/313 [============================>.] - ETA: 0s - loss: 0.8591 - accuracy: 0.7217\n",
            "Epoch 5: saving model to training_2_m2/cp.ckpt\n",
            "313/313 [==============================] - 5s 17ms/step - loss: 0.8590 - accuracy: 0.7217 - val_loss: 0.7914 - val_accuracy: 0.7472\n",
            "Epoch 6/100\n",
            "313/313 [==============================] - ETA: 0s - loss: 0.7772 - accuracy: 0.7488\n",
            "Epoch 6: saving model to training_2_m2/cp.ckpt\n",
            "313/313 [==============================] - 5s 17ms/step - loss: 0.7772 - accuracy: 0.7488 - val_loss: 0.9521 - val_accuracy: 0.7022\n",
            "Epoch 7/100\n",
            "310/313 [============================>.] - ETA: 0s - loss: 0.7210 - accuracy: 0.7686\n",
            "Epoch 7: saving model to training_2_m2/cp.ckpt\n",
            "313/313 [==============================] - 5s 17ms/step - loss: 0.7203 - accuracy: 0.7689 - val_loss: 0.7852 - val_accuracy: 0.7532\n",
            "Epoch 8/100\n",
            "311/313 [============================>.] - ETA: 0s - loss: 0.6750 - accuracy: 0.7860\n",
            "Epoch 8: saving model to training_2_m2/cp.ckpt\n",
            "313/313 [==============================] - 5s 17ms/step - loss: 0.6747 - accuracy: 0.7861 - val_loss: 0.7791 - val_accuracy: 0.7647\n",
            "Epoch 9/100\n",
            "310/313 [============================>.] - ETA: 0s - loss: 0.6352 - accuracy: 0.8007\n",
            "Epoch 9: saving model to training_2_m2/cp.ckpt\n",
            "313/313 [==============================] - 5s 17ms/step - loss: 0.6355 - accuracy: 0.8006 - val_loss: 0.7210 - val_accuracy: 0.7795\n",
            "Epoch 10/100\n",
            "312/313 [============================>.] - ETA: 0s - loss: 0.6023 - accuracy: 0.8122\n",
            "Epoch 10: saving model to training_2_m2/cp.ckpt\n",
            "313/313 [==============================] - 5s 17ms/step - loss: 0.6024 - accuracy: 0.8121 - val_loss: 0.7081 - val_accuracy: 0.7783\n",
            "Epoch 11/100\n",
            "313/313 [==============================] - ETA: 0s - loss: 0.5831 - accuracy: 0.8213\n",
            "Epoch 11: saving model to training_2_m2/cp.ckpt\n",
            "313/313 [==============================] - 5s 17ms/step - loss: 0.5831 - accuracy: 0.8213 - val_loss: 0.7127 - val_accuracy: 0.7822\n",
            "Epoch 12/100\n",
            "312/313 [============================>.] - ETA: 0s - loss: 0.5605 - accuracy: 0.8306\n",
            "Epoch 12: saving model to training_2_m2/cp.ckpt\n",
            "313/313 [==============================] - 5s 17ms/step - loss: 0.5606 - accuracy: 0.8305 - val_loss: 0.7295 - val_accuracy: 0.7828\n",
            "Epoch 13/100\n",
            "311/313 [============================>.] - ETA: 0s - loss: 0.5325 - accuracy: 0.8376\n",
            "Epoch 13: saving model to training_2_m2/cp.ckpt\n",
            "313/313 [==============================] - 5s 17ms/step - loss: 0.5327 - accuracy: 0.8376 - val_loss: 0.7102 - val_accuracy: 0.7939\n",
            "Epoch 14/100\n",
            "310/313 [============================>.] - ETA: 0s - loss: 0.5209 - accuracy: 0.8449\n",
            "Epoch 14: saving model to training_2_m2/cp.ckpt\n",
            "313/313 [==============================] - 5s 17ms/step - loss: 0.5208 - accuracy: 0.8448 - val_loss: 0.6414 - val_accuracy: 0.8174\n",
            "Epoch 15/100\n",
            "312/313 [============================>.] - ETA: 0s - loss: 0.5096 - accuracy: 0.8492\n",
            "Epoch 15: saving model to training_2_m2/cp.ckpt\n",
            "313/313 [==============================] - 5s 17ms/step - loss: 0.5102 - accuracy: 0.8490 - val_loss: 0.6493 - val_accuracy: 0.8151\n",
            "Epoch 16/100\n",
            "310/313 [============================>.] - ETA: 0s - loss: 0.4875 - accuracy: 0.8607\n",
            "Epoch 16: saving model to training_2_m2/cp.ckpt\n",
            "313/313 [==============================] - 5s 17ms/step - loss: 0.4876 - accuracy: 0.8606 - val_loss: 0.6532 - val_accuracy: 0.8158\n",
            "Epoch 17/100\n",
            "311/313 [============================>.] - ETA: 0s - loss: 0.4857 - accuracy: 0.8620\n",
            "Epoch 17: saving model to training_2_m2/cp.ckpt\n",
            "313/313 [==============================] - 5s 17ms/step - loss: 0.4854 - accuracy: 0.8621 - val_loss: 0.6525 - val_accuracy: 0.8202\n",
            "Epoch 18/100\n",
            "310/313 [============================>.] - ETA: 0s - loss: 0.4648 - accuracy: 0.8700\n",
            "Epoch 18: saving model to training_2_m2/cp.ckpt\n",
            "313/313 [==============================] - 5s 17ms/step - loss: 0.4648 - accuracy: 0.8702 - val_loss: 0.6555 - val_accuracy: 0.8247\n",
            "Epoch 19/100\n",
            "313/313 [==============================] - ETA: 0s - loss: 0.4577 - accuracy: 0.8741\n",
            "Epoch 19: saving model to training_2_m2/cp.ckpt\n",
            "313/313 [==============================] - 5s 17ms/step - loss: 0.4577 - accuracy: 0.8741 - val_loss: 0.7345 - val_accuracy: 0.8089\n",
            "Epoch 20/100\n",
            "312/313 [============================>.] - ETA: 0s - loss: 0.4468 - accuracy: 0.8782\n",
            "Epoch 20: saving model to training_2_m2/cp.ckpt\n",
            "313/313 [==============================] - 5s 17ms/step - loss: 0.4468 - accuracy: 0.8783 - val_loss: 0.6414 - val_accuracy: 0.8267\n",
            "Epoch 21/100\n",
            "311/313 [============================>.] - ETA: 0s - loss: 0.4330 - accuracy: 0.8869\n",
            "Epoch 21: saving model to training_2_m2/cp.ckpt\n",
            "313/313 [==============================] - 5s 17ms/step - loss: 0.4329 - accuracy: 0.8870 - val_loss: 0.7334 - val_accuracy: 0.8057\n",
            "Epoch 22/100\n",
            "313/313 [==============================] - ETA: 0s - loss: 0.4419 - accuracy: 0.8838\n",
            "Epoch 22: saving model to training_2_m2/cp.ckpt\n",
            "313/313 [==============================] - 5s 17ms/step - loss: 0.4419 - accuracy: 0.8838 - val_loss: 0.6442 - val_accuracy: 0.8256\n",
            "Epoch 23/100\n",
            "313/313 [==============================] - ETA: 0s - loss: 0.4241 - accuracy: 0.8910\n",
            "Epoch 23: saving model to training_2_m2/cp.ckpt\n",
            "313/313 [==============================] - 5s 17ms/step - loss: 0.4241 - accuracy: 0.8910 - val_loss: 0.6661 - val_accuracy: 0.8337\n",
            "Epoch 24/100\n",
            "312/313 [============================>.] - ETA: 0s - loss: 0.4193 - accuracy: 0.8945\n",
            "Epoch 24: saving model to training_2_m2/cp.ckpt\n",
            "313/313 [==============================] - 6s 19ms/step - loss: 0.4194 - accuracy: 0.8944 - val_loss: 0.6756 - val_accuracy: 0.8314\n",
            "Epoch 24: early stopping\n"
          ]
        }
      ]
    },
    {
      "cell_type": "code",
      "source": [
        "checkpoint_path_3 = \"training_2_m3/cp.ckpt\"\n",
        "checkpoint_dir_3 = os.path.dirname(checkpoint_path_3)\n",
        "\n",
        "# Create a callback that saves the model's weights\n",
        "cp_callback = ModelCheckpoint(filepath=checkpoint_path_3,\n",
        "                                                 save_weights_only=True,\n",
        "                                                 verbose=1)\n",
        "es = EarlyStopping(monitor='val_loss', min_delta=1e-5, patience = 10, verbose=1, mode='auto')\n",
        "\n",
        "# Train the model with the new callback\n",
        "history_3 = model_3.fit(train_images, \n",
        "          y_train_tf,  \n",
        "          validation_split = 0.2,\n",
        "          verbose=1,\n",
        "          epochs=100,\n",
        "          batch_size=128, \n",
        "          callbacks=[cp_callback,es],\n",
        "          shuffle= True) "
      ],
      "metadata": {
        "colab": {
          "base_uri": "https://localhost:8080/"
        },
        "id": "MwgZK2hcrgtH",
        "outputId": "c82f2487-e0d4-4b25-f012-01fe55ab91c5"
      },
      "execution_count": null,
      "outputs": [
        {
          "output_type": "stream",
          "name": "stdout",
          "text": [
            "Epoch 1/100\n",
            "311/313 [============================>.] - ETA: 0s - loss: 2.5964 - accuracy: 0.2445\n",
            "Epoch 1: saving model to training_2_m3/cp.ckpt\n",
            "313/313 [==============================] - 11s 31ms/step - loss: 2.5951 - accuracy: 0.2451 - val_loss: 3.2192 - val_accuracy: 0.1190\n",
            "Epoch 2/100\n",
            "311/313 [============================>.] - ETA: 0s - loss: 2.0404 - accuracy: 0.4095\n",
            "Epoch 2: saving model to training_2_m3/cp.ckpt\n",
            "313/313 [==============================] - 9s 29ms/step - loss: 2.0400 - accuracy: 0.4096 - val_loss: 2.1699 - val_accuracy: 0.3603\n",
            "Epoch 3/100\n",
            "311/313 [============================>.] - ETA: 0s - loss: 1.7571 - accuracy: 0.5123\n",
            "Epoch 3: saving model to training_2_m3/cp.ckpt\n",
            "313/313 [==============================] - 9s 29ms/step - loss: 1.7565 - accuracy: 0.5125 - val_loss: 1.7039 - val_accuracy: 0.5122\n",
            "Epoch 4/100\n",
            "311/313 [============================>.] - ETA: 0s - loss: 1.5485 - accuracy: 0.5762\n",
            "Epoch 4: saving model to training_2_m3/cp.ckpt\n",
            "313/313 [==============================] - 9s 29ms/step - loss: 1.5479 - accuracy: 0.5764 - val_loss: 1.6262 - val_accuracy: 0.5461\n",
            "Epoch 5/100\n",
            "311/313 [============================>.] - ETA: 0s - loss: 1.4233 - accuracy: 0.6188\n",
            "Epoch 5: saving model to training_2_m3/cp.ckpt\n",
            "313/313 [==============================] - 9s 29ms/step - loss: 1.4232 - accuracy: 0.6188 - val_loss: 1.4778 - val_accuracy: 0.5925\n",
            "Epoch 6/100\n",
            "311/313 [============================>.] - ETA: 0s - loss: 1.3286 - accuracy: 0.6540\n",
            "Epoch 6: saving model to training_2_m3/cp.ckpt\n",
            "313/313 [==============================] - 9s 29ms/step - loss: 1.3292 - accuracy: 0.6539 - val_loss: 1.2990 - val_accuracy: 0.6564\n",
            "Epoch 7/100\n",
            "311/313 [============================>.] - ETA: 0s - loss: 1.2758 - accuracy: 0.6712\n",
            "Epoch 7: saving model to training_2_m3/cp.ckpt\n",
            "313/313 [==============================] - 9s 29ms/step - loss: 1.2758 - accuracy: 0.6714 - val_loss: 1.2026 - val_accuracy: 0.6888\n",
            "Epoch 8/100\n",
            "311/313 [============================>.] - ETA: 0s - loss: 1.2274 - accuracy: 0.6943\n",
            "Epoch 8: saving model to training_2_m3/cp.ckpt\n",
            "313/313 [==============================] - 9s 29ms/step - loss: 1.2273 - accuracy: 0.6942 - val_loss: 1.2208 - val_accuracy: 0.6863\n",
            "Epoch 9/100\n",
            "311/313 [============================>.] - ETA: 0s - loss: 1.1974 - accuracy: 0.7061\n",
            "Epoch 9: saving model to training_2_m3/cp.ckpt\n",
            "313/313 [==============================] - 9s 29ms/step - loss: 1.1972 - accuracy: 0.7063 - val_loss: 1.1784 - val_accuracy: 0.7071\n",
            "Epoch 10/100\n",
            "311/313 [============================>.] - ETA: 0s - loss: 1.1878 - accuracy: 0.7128\n",
            "Epoch 10: saving model to training_2_m3/cp.ckpt\n",
            "313/313 [==============================] - 9s 29ms/step - loss: 1.1876 - accuracy: 0.7131 - val_loss: 1.2275 - val_accuracy: 0.6941\n",
            "Epoch 11/100\n",
            "311/313 [============================>.] - ETA: 0s - loss: 1.1649 - accuracy: 0.7232\n",
            "Epoch 11: saving model to training_2_m3/cp.ckpt\n",
            "313/313 [==============================] - 9s 29ms/step - loss: 1.1646 - accuracy: 0.7234 - val_loss: 1.0822 - val_accuracy: 0.7478\n",
            "Epoch 12/100\n",
            "311/313 [============================>.] - ETA: 0s - loss: 1.1463 - accuracy: 0.7306\n",
            "Epoch 12: saving model to training_2_m3/cp.ckpt\n",
            "313/313 [==============================] - 9s 29ms/step - loss: 1.1461 - accuracy: 0.7306 - val_loss: 1.0823 - val_accuracy: 0.7404\n",
            "Epoch 13/100\n",
            "311/313 [============================>.] - ETA: 0s - loss: 1.1351 - accuracy: 0.7369\n",
            "Epoch 13: saving model to training_2_m3/cp.ckpt\n",
            "313/313 [==============================] - 9s 29ms/step - loss: 1.1353 - accuracy: 0.7369 - val_loss: 1.1223 - val_accuracy: 0.7454\n",
            "Epoch 14/100\n",
            "312/313 [============================>.] - ETA: 0s - loss: 1.1172 - accuracy: 0.7464\n",
            "Epoch 14: saving model to training_2_m3/cp.ckpt\n",
            "313/313 [==============================] - 9s 29ms/step - loss: 1.1174 - accuracy: 0.7465 - val_loss: 1.0557 - val_accuracy: 0.7564\n",
            "Epoch 15/100\n",
            "311/313 [============================>.] - ETA: 0s - loss: 1.1065 - accuracy: 0.7478\n",
            "Epoch 15: saving model to training_2_m3/cp.ckpt\n",
            "313/313 [==============================] - 9s 30ms/step - loss: 1.1067 - accuracy: 0.7477 - val_loss: 1.1128 - val_accuracy: 0.7388\n",
            "Epoch 16/100\n",
            "311/313 [============================>.] - ETA: 0s - loss: 1.1032 - accuracy: 0.7540\n",
            "Epoch 16: saving model to training_2_m3/cp.ckpt\n",
            "313/313 [==============================] - 10s 31ms/step - loss: 1.1030 - accuracy: 0.7541 - val_loss: 1.1276 - val_accuracy: 0.7336\n",
            "Epoch 17/100\n",
            "311/313 [============================>.] - ETA: 0s - loss: 1.0940 - accuracy: 0.7555\n",
            "Epoch 17: saving model to training_2_m3/cp.ckpt\n",
            "313/313 [==============================] - 9s 30ms/step - loss: 1.0935 - accuracy: 0.7556 - val_loss: 1.0586 - val_accuracy: 0.7610\n",
            "Epoch 18/100\n",
            "311/313 [============================>.] - ETA: 0s - loss: 1.0868 - accuracy: 0.7600\n",
            "Epoch 18: saving model to training_2_m3/cp.ckpt\n",
            "313/313 [==============================] - 9s 30ms/step - loss: 1.0870 - accuracy: 0.7602 - val_loss: 1.1314 - val_accuracy: 0.7345\n",
            "Epoch 19/100\n",
            "311/313 [============================>.] - ETA: 0s - loss: 1.0750 - accuracy: 0.7671\n",
            "Epoch 19: saving model to training_2_m3/cp.ckpt\n",
            "313/313 [==============================] - 9s 30ms/step - loss: 1.0753 - accuracy: 0.7671 - val_loss: 1.3653 - val_accuracy: 0.7004\n",
            "Epoch 20/100\n",
            "311/313 [============================>.] - ETA: 0s - loss: 1.0681 - accuracy: 0.7665\n",
            "Epoch 20: saving model to training_2_m3/cp.ckpt\n",
            "313/313 [==============================] - 9s 30ms/step - loss: 1.0681 - accuracy: 0.7664 - val_loss: 1.0686 - val_accuracy: 0.7663\n",
            "Epoch 21/100\n",
            "311/313 [============================>.] - ETA: 0s - loss: 1.0607 - accuracy: 0.7679\n",
            "Epoch 21: saving model to training_2_m3/cp.ckpt\n",
            "313/313 [==============================] - 9s 29ms/step - loss: 1.0599 - accuracy: 0.7680 - val_loss: 1.0895 - val_accuracy: 0.7510\n",
            "Epoch 22/100\n",
            "311/313 [============================>.] - ETA: 0s - loss: 1.0565 - accuracy: 0.7675\n",
            "Epoch 22: saving model to training_2_m3/cp.ckpt\n",
            "313/313 [==============================] - 9s 30ms/step - loss: 1.0559 - accuracy: 0.7678 - val_loss: 1.0386 - val_accuracy: 0.7665\n",
            "Epoch 23/100\n",
            "311/313 [============================>.] - ETA: 0s - loss: 1.0458 - accuracy: 0.7739\n",
            "Epoch 23: saving model to training_2_m3/cp.ckpt\n",
            "313/313 [==============================] - 9s 30ms/step - loss: 1.0461 - accuracy: 0.7739 - val_loss: 1.0396 - val_accuracy: 0.7735\n",
            "Epoch 24/100\n",
            "311/313 [============================>.] - ETA: 0s - loss: 1.0409 - accuracy: 0.7766\n",
            "Epoch 24: saving model to training_2_m3/cp.ckpt\n",
            "313/313 [==============================] - 9s 29ms/step - loss: 1.0414 - accuracy: 0.7764 - val_loss: 1.2779 - val_accuracy: 0.7105\n",
            "Epoch 25/100\n",
            "311/313 [============================>.] - ETA: 0s - loss: 1.0454 - accuracy: 0.7755\n",
            "Epoch 25: saving model to training_2_m3/cp.ckpt\n",
            "313/313 [==============================] - 9s 29ms/step - loss: 1.0450 - accuracy: 0.7755 - val_loss: 1.0396 - val_accuracy: 0.7664\n",
            "Epoch 26/100\n",
            "311/313 [============================>.] - ETA: 0s - loss: 1.0395 - accuracy: 0.7767\n",
            "Epoch 26: saving model to training_2_m3/cp.ckpt\n",
            "313/313 [==============================] - 9s 29ms/step - loss: 1.0396 - accuracy: 0.7768 - val_loss: 1.0943 - val_accuracy: 0.7539\n",
            "Epoch 27/100\n",
            "311/313 [============================>.] - ETA: 0s - loss: 1.0242 - accuracy: 0.7824\n",
            "Epoch 27: saving model to training_2_m3/cp.ckpt\n",
            "313/313 [==============================] - 9s 29ms/step - loss: 1.0240 - accuracy: 0.7825 - val_loss: 1.2340 - val_accuracy: 0.7207\n",
            "Epoch 28/100\n",
            "311/313 [============================>.] - ETA: 0s - loss: 1.0163 - accuracy: 0.7860\n",
            "Epoch 28: saving model to training_2_m3/cp.ckpt\n",
            "313/313 [==============================] - 9s 29ms/step - loss: 1.0164 - accuracy: 0.7859 - val_loss: 0.9762 - val_accuracy: 0.7909\n",
            "Epoch 29/100\n",
            "311/313 [============================>.] - ETA: 0s - loss: 1.0105 - accuracy: 0.7872\n",
            "Epoch 29: saving model to training_2_m3/cp.ckpt\n",
            "313/313 [==============================] - 9s 29ms/step - loss: 1.0108 - accuracy: 0.7872 - val_loss: 1.0373 - val_accuracy: 0.7770\n",
            "Epoch 30/100\n",
            "311/313 [============================>.] - ETA: 0s - loss: 1.0224 - accuracy: 0.7835\n",
            "Epoch 30: saving model to training_2_m3/cp.ckpt\n",
            "313/313 [==============================] - 9s 29ms/step - loss: 1.0227 - accuracy: 0.7834 - val_loss: 0.9873 - val_accuracy: 0.7904\n",
            "Epoch 31/100\n",
            "311/313 [============================>.] - ETA: 0s - loss: 1.0040 - accuracy: 0.7878\n",
            "Epoch 31: saving model to training_2_m3/cp.ckpt\n",
            "313/313 [==============================] - 10s 32ms/step - loss: 1.0038 - accuracy: 0.7879 - val_loss: 1.1002 - val_accuracy: 0.7440\n",
            "Epoch 32/100\n",
            "311/313 [============================>.] - ETA: 0s - loss: 0.9977 - accuracy: 0.7897\n",
            "Epoch 32: saving model to training_2_m3/cp.ckpt\n",
            "313/313 [==============================] - 9s 29ms/step - loss: 0.9976 - accuracy: 0.7897 - val_loss: 0.9980 - val_accuracy: 0.7886\n",
            "Epoch 33/100\n",
            "311/313 [============================>.] - ETA: 0s - loss: 0.9989 - accuracy: 0.7913\n",
            "Epoch 33: saving model to training_2_m3/cp.ckpt\n",
            "313/313 [==============================] - 9s 29ms/step - loss: 0.9990 - accuracy: 0.7912 - val_loss: 0.9923 - val_accuracy: 0.7876\n",
            "Epoch 34/100\n",
            "311/313 [============================>.] - ETA: 0s - loss: 0.9979 - accuracy: 0.7892\n",
            "Epoch 34: saving model to training_2_m3/cp.ckpt\n",
            "313/313 [==============================] - 9s 30ms/step - loss: 0.9982 - accuracy: 0.7891 - val_loss: 1.0058 - val_accuracy: 0.7814\n",
            "Epoch 35/100\n",
            "311/313 [============================>.] - ETA: 0s - loss: 0.9981 - accuracy: 0.7895\n",
            "Epoch 35: saving model to training_2_m3/cp.ckpt\n",
            "313/313 [==============================] - 9s 30ms/step - loss: 0.9977 - accuracy: 0.7897 - val_loss: 1.3246 - val_accuracy: 0.7012\n",
            "Epoch 36/100\n",
            "311/313 [============================>.] - ETA: 0s - loss: 0.9862 - accuracy: 0.7941\n",
            "Epoch 36: saving model to training_2_m3/cp.ckpt\n",
            "313/313 [==============================] - 9s 30ms/step - loss: 0.9866 - accuracy: 0.7939 - val_loss: 0.9772 - val_accuracy: 0.7832\n",
            "Epoch 37/100\n",
            "311/313 [============================>.] - ETA: 0s - loss: 0.9810 - accuracy: 0.7956\n",
            "Epoch 37: saving model to training_2_m3/cp.ckpt\n",
            "313/313 [==============================] - 9s 30ms/step - loss: 0.9811 - accuracy: 0.7956 - val_loss: 1.0607 - val_accuracy: 0.7706\n",
            "Epoch 38/100\n",
            "311/313 [============================>.] - ETA: 0s - loss: 0.9803 - accuracy: 0.7943\n",
            "Epoch 38: saving model to training_2_m3/cp.ckpt\n",
            "313/313 [==============================] - 10s 32ms/step - loss: 0.9801 - accuracy: 0.7943 - val_loss: 0.9529 - val_accuracy: 0.7976\n",
            "Epoch 39/100\n",
            "311/313 [============================>.] - ETA: 0s - loss: 0.9789 - accuracy: 0.7952\n",
            "Epoch 39: saving model to training_2_m3/cp.ckpt\n",
            "313/313 [==============================] - 9s 30ms/step - loss: 0.9790 - accuracy: 0.7951 - val_loss: 1.0215 - val_accuracy: 0.7777\n",
            "Epoch 40/100\n",
            "311/313 [============================>.] - ETA: 0s - loss: 0.9795 - accuracy: 0.7938\n",
            "Epoch 40: saving model to training_2_m3/cp.ckpt\n",
            "313/313 [==============================] - 9s 30ms/step - loss: 0.9798 - accuracy: 0.7939 - val_loss: 1.0168 - val_accuracy: 0.7776\n",
            "Epoch 41/100\n",
            "311/313 [============================>.] - ETA: 0s - loss: 0.9718 - accuracy: 0.7979\n",
            "Epoch 41: saving model to training_2_m3/cp.ckpt\n",
            "313/313 [==============================] - 9s 30ms/step - loss: 0.9719 - accuracy: 0.7978 - val_loss: 0.9932 - val_accuracy: 0.7871\n",
            "Epoch 42/100\n",
            "311/313 [============================>.] - ETA: 0s - loss: 0.9589 - accuracy: 0.8005\n",
            "Epoch 42: saving model to training_2_m3/cp.ckpt\n",
            "313/313 [==============================] - 9s 29ms/step - loss: 0.9589 - accuracy: 0.8005 - val_loss: 0.9597 - val_accuracy: 0.7997\n",
            "Epoch 43/100\n",
            "311/313 [============================>.] - ETA: 0s - loss: 0.9684 - accuracy: 0.7972\n",
            "Epoch 43: saving model to training_2_m3/cp.ckpt\n",
            "313/313 [==============================] - 9s 29ms/step - loss: 0.9682 - accuracy: 0.7971 - val_loss: 1.0035 - val_accuracy: 0.7932\n",
            "Epoch 44/100\n",
            "311/313 [============================>.] - ETA: 0s - loss: 0.9602 - accuracy: 0.7996\n",
            "Epoch 44: saving model to training_2_m3/cp.ckpt\n",
            "313/313 [==============================] - 9s 29ms/step - loss: 0.9607 - accuracy: 0.7995 - val_loss: 1.0517 - val_accuracy: 0.7704\n",
            "Epoch 45/100\n",
            "311/313 [============================>.] - ETA: 0s - loss: 0.9642 - accuracy: 0.8009\n",
            "Epoch 45: saving model to training_2_m3/cp.ckpt\n",
            "313/313 [==============================] - 9s 29ms/step - loss: 0.9642 - accuracy: 0.8008 - val_loss: 1.0455 - val_accuracy: 0.7726\n",
            "Epoch 46/100\n",
            "311/313 [============================>.] - ETA: 0s - loss: 0.9577 - accuracy: 0.8029\n",
            "Epoch 46: saving model to training_2_m3/cp.ckpt\n",
            "313/313 [==============================] - 9s 30ms/step - loss: 0.9579 - accuracy: 0.8030 - val_loss: 1.0038 - val_accuracy: 0.7831\n",
            "Epoch 47/100\n",
            "311/313 [============================>.] - ETA: 0s - loss: 0.9588 - accuracy: 0.8010\n",
            "Epoch 47: saving model to training_2_m3/cp.ckpt\n",
            "313/313 [==============================] - 9s 30ms/step - loss: 0.9585 - accuracy: 0.8012 - val_loss: 0.9476 - val_accuracy: 0.7984\n",
            "Epoch 48/100\n",
            "313/313 [==============================] - ETA: 0s - loss: 0.9510 - accuracy: 0.8032\n",
            "Epoch 48: saving model to training_2_m3/cp.ckpt\n",
            "313/313 [==============================] - 9s 29ms/step - loss: 0.9510 - accuracy: 0.8032 - val_loss: 0.9567 - val_accuracy: 0.7947\n",
            "Epoch 49/100\n",
            "311/313 [============================>.] - ETA: 0s - loss: 0.9621 - accuracy: 0.7992\n",
            "Epoch 49: saving model to training_2_m3/cp.ckpt\n",
            "313/313 [==============================] - 9s 29ms/step - loss: 0.9623 - accuracy: 0.7991 - val_loss: 1.0240 - val_accuracy: 0.7751\n",
            "Epoch 50/100\n",
            "311/313 [============================>.] - ETA: 0s - loss: 0.9542 - accuracy: 0.8020\n",
            "Epoch 50: saving model to training_2_m3/cp.ckpt\n",
            "313/313 [==============================] - 9s 29ms/step - loss: 0.9540 - accuracy: 0.8022 - val_loss: 1.2786 - val_accuracy: 0.7116\n",
            "Epoch 51/100\n",
            "311/313 [============================>.] - ETA: 0s - loss: 0.9563 - accuracy: 0.8002\n",
            "Epoch 51: saving model to training_2_m3/cp.ckpt\n",
            "313/313 [==============================] - 9s 29ms/step - loss: 0.9558 - accuracy: 0.8006 - val_loss: 1.0610 - val_accuracy: 0.7670\n",
            "Epoch 52/100\n",
            "311/313 [============================>.] - ETA: 0s - loss: 0.9427 - accuracy: 0.8054\n",
            "Epoch 52: saving model to training_2_m3/cp.ckpt\n",
            "313/313 [==============================] - 9s 29ms/step - loss: 0.9428 - accuracy: 0.8053 - val_loss: 0.9817 - val_accuracy: 0.7882\n",
            "Epoch 53/100\n",
            "311/313 [============================>.] - ETA: 0s - loss: 0.9518 - accuracy: 0.8070\n",
            "Epoch 53: saving model to training_2_m3/cp.ckpt\n",
            "313/313 [==============================] - 9s 29ms/step - loss: 0.9519 - accuracy: 0.8071 - val_loss: 0.9883 - val_accuracy: 0.7921\n",
            "Epoch 54/100\n",
            "311/313 [============================>.] - ETA: 0s - loss: 0.9411 - accuracy: 0.8070\n",
            "Epoch 54: saving model to training_2_m3/cp.ckpt\n",
            "313/313 [==============================] - 9s 29ms/step - loss: 0.9414 - accuracy: 0.8069 - val_loss: 0.8833 - val_accuracy: 0.8173\n",
            "Epoch 55/100\n",
            "311/313 [============================>.] - ETA: 0s - loss: 0.9358 - accuracy: 0.8083\n",
            "Epoch 55: saving model to training_2_m3/cp.ckpt\n",
            "313/313 [==============================] - 9s 29ms/step - loss: 0.9359 - accuracy: 0.8085 - val_loss: 0.9990 - val_accuracy: 0.7879\n",
            "Epoch 56/100\n",
            "311/313 [============================>.] - ETA: 0s - loss: 0.9458 - accuracy: 0.8065\n",
            "Epoch 56: saving model to training_2_m3/cp.ckpt\n",
            "313/313 [==============================] - 9s 29ms/step - loss: 0.9458 - accuracy: 0.8064 - val_loss: 0.9993 - val_accuracy: 0.7832\n",
            "Epoch 57/100\n",
            "311/313 [============================>.] - ETA: 0s - loss: 0.9394 - accuracy: 0.8060\n",
            "Epoch 57: saving model to training_2_m3/cp.ckpt\n",
            "313/313 [==============================] - 9s 29ms/step - loss: 0.9400 - accuracy: 0.8058 - val_loss: 1.0027 - val_accuracy: 0.7814\n",
            "Epoch 58/100\n",
            "311/313 [============================>.] - ETA: 0s - loss: 0.9330 - accuracy: 0.8092\n",
            "Epoch 58: saving model to training_2_m3/cp.ckpt\n",
            "313/313 [==============================] - 9s 29ms/step - loss: 0.9330 - accuracy: 0.8091 - val_loss: 1.0578 - val_accuracy: 0.7648\n",
            "Epoch 59/100\n",
            "311/313 [============================>.] - ETA: 0s - loss: 0.9361 - accuracy: 0.8095\n",
            "Epoch 59: saving model to training_2_m3/cp.ckpt\n",
            "313/313 [==============================] - 9s 29ms/step - loss: 0.9361 - accuracy: 0.8094 - val_loss: 0.9284 - val_accuracy: 0.8069\n",
            "Epoch 60/100\n",
            "311/313 [============================>.] - ETA: 0s - loss: 0.9286 - accuracy: 0.8119\n",
            "Epoch 60: saving model to training_2_m3/cp.ckpt\n",
            "313/313 [==============================] - 9s 29ms/step - loss: 0.9282 - accuracy: 0.8120 - val_loss: 1.0418 - val_accuracy: 0.7808\n",
            "Epoch 61/100\n",
            "311/313 [============================>.] - ETA: 0s - loss: 0.9241 - accuracy: 0.8105\n",
            "Epoch 61: saving model to training_2_m3/cp.ckpt\n",
            "313/313 [==============================] - 9s 29ms/step - loss: 0.9247 - accuracy: 0.8104 - val_loss: 0.9849 - val_accuracy: 0.7891\n",
            "Epoch 62/100\n",
            "311/313 [============================>.] - ETA: 0s - loss: 0.9332 - accuracy: 0.8083\n",
            "Epoch 62: saving model to training_2_m3/cp.ckpt\n",
            "313/313 [==============================] - 9s 30ms/step - loss: 0.9335 - accuracy: 0.8081 - val_loss: 1.0259 - val_accuracy: 0.7773\n",
            "Epoch 63/100\n",
            "311/313 [============================>.] - ETA: 0s - loss: 0.9200 - accuracy: 0.8122\n",
            "Epoch 63: saving model to training_2_m3/cp.ckpt\n",
            "313/313 [==============================] - 9s 29ms/step - loss: 0.9200 - accuracy: 0.8122 - val_loss: 1.0426 - val_accuracy: 0.7715\n",
            "Epoch 64/100\n",
            "311/313 [============================>.] - ETA: 0s - loss: 0.9261 - accuracy: 0.8095\n",
            "Epoch 64: saving model to training_2_m3/cp.ckpt\n",
            "313/313 [==============================] - 9s 29ms/step - loss: 0.9262 - accuracy: 0.8094 - val_loss: 0.9221 - val_accuracy: 0.8105\n",
            "Epoch 64: early stopping\n"
          ]
        }
      ]
    },
    {
      "cell_type": "code",
      "source": [
        "pd.DataFrame(history_1.history).plot(figsize=(8, 5))\n",
        "plt.grid(True)\n",
        "plt.gca().set_ylim(0,5)  \n",
        "plt.show()"
      ],
      "metadata": {
        "colab": {
          "base_uri": "https://localhost:8080/",
          "height": 324
        },
        "id": "EWT-t7-euAnW",
        "outputId": "06fdc6b2-d94c-4471-9701-2ce332723460"
      },
      "execution_count": null,
      "outputs": [
        {
          "output_type": "display_data",
          "data": {
            "text/plain": [
              "<Figure size 576x360 with 1 Axes>"
            ],
            "image/png": "[encoded data removed]"
          },
          "metadata": {
            "needs_background": "light"
          }
        }
      ]
    },
    {
      "cell_type": "code",
      "source": [
        "pd.DataFrame(history_2.history).plot(figsize=(8, 5))\n",
        "plt.grid(True)\n",
        "plt.gca().set_ylim(0,5)  \n",
        "plt.show()"
      ],
      "metadata": {
        "colab": {
          "base_uri": "https://localhost:8080/",
          "height": 324
        },
        "id": "CjeYI3612SOi",
        "outputId": "ee469caf-0c39-4382-b520-38d360f0019a"
      },
      "execution_count": null,
      "outputs": [
        {
          "output_type": "display_data",
          "data": {
            "text/plain": [
              "<Figure size 576x360 with 1 Axes>"
            ],
            "image/png": "[encoded data removed]"
          },
          "metadata": {
            "needs_background": "light"
          }
        }
      ]
    },
    {
      "cell_type": "code",
      "source": [
        "pd.DataFrame(history_3.history).plot(figsize=(8, 5))\n",
        "plt.grid(True)\n",
        "plt.gca().set_ylim(0,5)  \n",
        "plt.show()"
      ],
      "metadata": {
        "colab": {
          "base_uri": "https://localhost:8080/",
          "height": 324
        },
        "id": "hob59RGz2SwK",
        "outputId": "1e68d8da-6465-4cab-d6a0-5f0a1758038d"
      },
      "execution_count": null,
      "outputs": [
        {
          "output_type": "display_data",
          "data": {
            "text/plain": [
              "<Figure size 576x360 with 1 Axes>"
            ],
            "image/png": "[encoded data removed]"
          },
          "metadata": {
            "needs_background": "light"
          }
        }
      ]
    },
    {
      "cell_type": "markdown",
      "metadata": {
        "id": "rlM-sgyJO084"
      },
      "source": [
        "This creates a single collection of TensorFlow checkpoint files that are updated at the end of each epoch:"
      ]
    },
    {
      "cell_type": "code",
      "execution_count": null,
      "metadata": {
        "id": "gXG5FVKFOVQ3",
        "outputId": "8218c41e-7214-4d3c-8bcb-e60aa5236606",
        "colab": {
          "base_uri": "https://localhost:8080/"
        }
      },
      "outputs": [
        {
          "output_type": "execute_result",
          "data": {
            "text/plain": [
              "['cp.ckpt.data-00000-of-00001', 'checkpoint', 'cp.ckpt.index']"
            ]
          },
          "metadata": {},
          "execution_count": 83
        }
      ],
      "source": [
        "os.listdir(checkpoint_dir_1)\n",
        "os.listdir(checkpoint_dir_2)\n",
        "os.listdir(checkpoint_dir_3)"
      ]
    },
    {
      "cell_type": "code",
      "source": [
        "print(\"Validation accuracy of Model 1 is: {:5.2f}%\".format(100*history_1.history['val_accuracy'][-1]))\n",
        "print(\"Validation value accuracy of Model 2 is: {:5.2f}%\".format(100*history_2.history['val_accuracy'][-1]))\n",
        "print(\"Validation value accuracy of Model 3 is: {:5.2f}%\".format(100*history_3.history['val_accuracy'][-1]))"
      ],
      "metadata": {
        "colab": {
          "base_uri": "https://localhost:8080/"
        },
        "id": "OgbwvrTuHCZh",
        "outputId": "151f65a3-c468-4e44-d19a-391edff3e292"
      },
      "execution_count": null,
      "outputs": [
        {
          "output_type": "stream",
          "name": "stdout",
          "text": [
            "Validation accuracy of Model 1 is: 76.47%\n",
            "Validation value accuracy of Model 2 is: 83.14%\n",
            "Validation value accuracy of Model 3 is: 81.05%\n"
          ]
        }
      ]
    },
    {
      "cell_type": "markdown",
      "source": [
        "## Due to highest value accuracy obtained among the three models, Model 2 is selected. \n",
        "\n",
        "### This shows that\n",
        "\n",
        "\n",
        "*   Large number of neurons does not always mean higher accuracy. \n",
        "*   Large number of layers does not always mean higher accuracy. \n",
        "\n"
      ],
      "metadata": {
        "id": "Nv5Wa9A3Ot6p"
      }
    },
    {
      "cell_type": "code",
      "source": [
        "# Save the entire model to a HDF5 file and save the model with higher accuracy \n",
        "#model_1.save('CNN_cifar10_m1_2.h5') \n",
        "model_2.save('CNN_cifar_m2_2.h5') \n",
        "#model_3.save('CNN_cifar10_m3_2.h5') "
      ],
      "metadata": {
        "id": "uUKOZQi1C_6z"
      },
      "execution_count": null,
      "outputs": []
    },
    {
      "cell_type": "markdown",
      "metadata": {
        "id": "wlRN_f56Pqa9"
      },
      "source": [
        "As long as two models share the same architecture you can share weights between them. So, when restoring a model from weights-only, create a model with the same architecture as the original model and then set its weights. \n",
        "\n",
        "Now rebuild a fresh, untrained model and evaluate it on the test set. An untrained model will perform at chance levels (~10% accuracy):"
      ]
    },
    {
      "cell_type": "code",
      "execution_count": null,
      "metadata": {
        "id": "Fp5gbuiaPqCT",
        "outputId": "21e05173-6e17-4d32-b080-a8b0cd4080e5",
        "colab": {
          "base_uri": "https://localhost:8080/"
        }
      },
      "outputs": [
        {
          "output_type": "stream",
          "name": "stdout",
          "text": [
            "313/313 - 1s - loss: 2.3408 - accuracy: 0.1001 - 1s/epoch - 4ms/step\n",
            "Untrained model, accuracy: 10.01%\n"
          ]
        }
      ],
      "source": [
        "# Create a basic model instance\n",
        "model_new = create_model_2()  \n",
        "\n",
        "# Evaluate the model\n",
        "loss_new, acc_new = model_new.evaluate(test_images, y_test_tf, verbose=2)\n",
        "print(\"Untrained model, accuracy: {:5.2f}%\".format(100 * acc_new))\n"
      ]
    },
    {
      "cell_type": "markdown",
      "metadata": {
        "id": "1DTKpZssRSo3"
      },
      "source": [
        "### Loading the weights from the checkpoint of the best model (high accuracy) and re-evaluating"
      ]
    },
    {
      "cell_type": "code",
      "execution_count": null,
      "metadata": {
        "id": "2IZxbwiRRSD2",
        "outputId": "8cbe3cd0-ff66-412a-88e3-53953bab093d",
        "colab": {
          "base_uri": "https://localhost:8080/"
        }
      },
      "outputs": [
        {
          "output_type": "stream",
          "name": "stdout",
          "text": [
            "313/313 - 1s - loss: 0.6932 - accuracy: 0.8212 - 1s/epoch - 3ms/step\n",
            "Restored model, accuracy: 82.12%\n"
          ]
        }
      ],
      "source": [
        "# Loads the weights\n",
        "model_2.load_weights(checkpoint_path_2)\n",
        "\n",
        "# Re-evaluate the model\n",
        "loss, acc = model_2.evaluate(test_images, y_test_tf, verbose=2)\n",
        "print(\"Restored model, accuracy: {:5.2f}%\".format(100 * acc))"
      ]
    },
    {
      "cell_type": "markdown",
      "source": [
        "### Get Model Predictions for test data"
      ],
      "metadata": {
        "id": "QagEads4R3N7"
      }
    },
    {
      "cell_type": "code",
      "source": [
        "# Get Model Predictions for test data\n",
        "# Predict the values from the validation dataset\n",
        "y_pred = model_2.predict(test_images)\n",
        "print(y_pred)\n",
        "# Convert predictions classes to one hot vectors \n",
        "y_pred_classes = np.argmax(y_pred,axis = 1) \n",
        "print(y_pred_classes)\n",
        "# Convert validation observations to one hot vectors\n",
        "y_true = np.argmax(y_test_tf,axis = 1)\n",
        "print(y_true)\n"
      ],
      "metadata": {
        "id": "iSobDup9JbTD",
        "colab": {
          "base_uri": "https://localhost:8080/"
        },
        "outputId": "c22ce2a2-9623-41a5-f483-ed44a8580a0a"
      },
      "execution_count": null,
      "outputs": [
        {
          "output_type": "stream",
          "name": "stdout",
          "text": [
            "[[1.6864435e-05 5.7641519e-05 2.1879682e-03 ... 1.3366990e-06\n",
            "  2.2449506e-04 7.9248025e-07]\n",
            " [3.7074435e-07 3.9202446e-06 2.6802805e-11 ... 8.9652032e-16\n",
            "  9.9999571e-01 3.2287577e-08]\n",
            " [2.6672718e-04 2.2960212e-02 3.8723470e-06 ... 1.3380998e-05\n",
            "  9.7445774e-01 2.0760447e-03]\n",
            " ...\n",
            " [2.6601132e-09 5.8052807e-09 1.8843027e-06 ... 3.1855935e-04\n",
            "  1.4918390e-08 4.5157282e-07]\n",
            " [4.6281978e-03 9.3512189e-01 1.3065286e-03 ... 3.1451652e-06\n",
            "  4.7326928e-05 3.1568730e-04]\n",
            " [2.7331651e-10 2.8782499e-09 2.0543330e-10 ... 9.9999702e-01\n",
            "  2.7047148e-14 6.0571387e-12]]\n",
            "[3 8 8 ... 5 1 7]\n",
            "[3 8 8 ... 5 1 7]\n"
          ]
        }
      ]
    },
    {
      "cell_type": "code",
      "source": [
        "np.array(classes)[y_pred_classes]"
      ],
      "metadata": {
        "id": "Uojn1pNOTHHF",
        "colab": {
          "base_uri": "https://localhost:8080/"
        },
        "outputId": "4fea88a3-205a-4326-928d-637f701b6d69"
      },
      "execution_count": null,
      "outputs": [
        {
          "output_type": "execute_result",
          "data": {
            "text/plain": [
              "array(['cat', 'ship', 'ship', ..., 'dog', 'automobile', 'horse'],\n",
              "      dtype='<U10')"
            ]
          },
          "metadata": {},
          "execution_count": 89
        }
      ]
    },
    {
      "cell_type": "code",
      "source": [
        "np.array(classes)[y_true]"
      ],
      "metadata": {
        "colab": {
          "base_uri": "https://localhost:8080/"
        },
        "id": "giNys9mHB-Vq",
        "outputId": "c148a4b4-4d03-429a-ced6-910e2144d6df"
      },
      "execution_count": null,
      "outputs": [
        {
          "output_type": "execute_result",
          "data": {
            "text/plain": [
              "array(['cat', 'ship', 'ship', ..., 'dog', 'automobile', 'horse'],\n",
              "      dtype='<U10')"
            ]
          },
          "metadata": {},
          "execution_count": 90
        }
      ]
    },
    {
      "cell_type": "markdown",
      "source": [
        "### Loading/Restoring the best saved model for prediction "
      ],
      "metadata": {
        "id": "4-Frj1GONns9"
      }
    },
    {
      "cell_type": "code",
      "source": [
        "model_new_2 = tf.keras.models.load_model(\"CNN_cifar10_m2_2.h5\")\n",
        "\n",
        "loss_new_2, acc_new_2 = model_new_2.evaluate(test_images, y_test_tf, verbose=2)\n",
        "print(\"Restored model, accuracy: {:5.2f}%\".format(100 * acc_new_2))\n"
      ],
      "metadata": {
        "colab": {
          "base_uri": "https://localhost:8080/"
        },
        "id": "5NCYiv95CWTk",
        "outputId": "3d60d466-0d59-4dae-c6c7-fa9b164664d2"
      },
      "execution_count": null,
      "outputs": [
        {
          "output_type": "stream",
          "name": "stdout",
          "text": [
            "313/313 - 1s - loss: 0.7336 - accuracy: 0.8248 - 1s/epoch - 4ms/step\n",
            "Restored model, accuracy: 82.48%\n"
          ]
        }
      ]
    },
    {
      "cell_type": "code",
      "source": [
        "# Get Model Predictions for test data\n",
        "# Predict the values from the validation dataset\n",
        "y_pred_new = model_new_2.predict(test_images)\n",
        "print(y_pred_new)\n",
        "# Convert predictions classes to one hot vectors \n",
        "y_pred_classes_new = np.argmax(y_pred_new,axis = 1)   #Taking 7 data points from predicted images\n",
        "print(y_pred_classes_new)\n",
        "# Convert validation observations to one hot vectors\n",
        "y_true_new = np.argmax(y_test_tf,axis = 1)   #Taking 7 data points from actual images\n",
        "print(y_true_new)"
      ],
      "metadata": {
        "colab": {
          "base_uri": "https://localhost:8080/"
        },
        "id": "jdjo5wmoFsRX",
        "outputId": "eca1e684-6dd1-4d22-ae4d-6647b66290a1"
      },
      "execution_count": null,
      "outputs": [
        {
          "output_type": "stream",
          "name": "stdout",
          "text": [
            "[[6.1498399e-06 4.8029551e-07 1.7268037e-06 ... 4.3910578e-08\n",
            "  9.1059228e-08 1.5626934e-08]\n",
            " [1.0459859e-06 1.4217940e-05 3.3364155e-11 ... 1.6676294e-13\n",
            "  9.9998474e-01 5.2317570e-11]\n",
            " [1.3156631e-06 6.7350944e-03 1.3573266e-05 ... 8.4804725e-08\n",
            "  9.9300981e-01 6.4097439e-05]\n",
            " ...\n",
            " [8.7426599e-10 2.2752616e-11 4.0488680e-06 ... 1.6899115e-06\n",
            "  1.4856393e-10 2.2587045e-08]\n",
            " [7.6663014e-03 9.6678382e-01 7.7306628e-05 ... 1.2502784e-04\n",
            "  1.7008593e-05 1.4472839e-02]\n",
            " [4.2956233e-10 9.2910005e-07 6.0075230e-08 ... 9.8926455e-01\n",
            "  6.5625669e-12 9.5401825e-11]]\n",
            "[3 8 8 ... 5 1 7]\n",
            "[3 8 8 ... 5 1 7]\n"
          ]
        }
      ]
    },
    {
      "cell_type": "markdown",
      "source": [
        "### Comparing the predicted vs actual data and observing the performance of the trained model (Restored)"
      ],
      "metadata": {
        "id": "zNfrJ7kOHrWs"
      }
    },
    {
      "cell_type": "code",
      "source": [
        "np.array(classes)[y_pred_classes_new]"
      ],
      "metadata": {
        "colab": {
          "base_uri": "https://localhost:8080/"
        },
        "id": "mGqVLphrGbvQ",
        "outputId": "ae1e2936-c47f-4207-dc2d-ca7b2fc1c92c"
      },
      "execution_count": null,
      "outputs": [
        {
          "output_type": "execute_result",
          "data": {
            "text/plain": [
              "array(['cat', 'ship', 'ship', ..., 'dog', 'automobile', 'horse'],\n",
              "      dtype='<U10')"
            ]
          },
          "metadata": {},
          "execution_count": 93
        }
      ]
    },
    {
      "cell_type": "code",
      "source": [
        "np.array(classes)[y_true_new]"
      ],
      "metadata": {
        "colab": {
          "base_uri": "https://localhost:8080/"
        },
        "id": "7MY6NAPTG0Eo",
        "outputId": "6c96f6fa-509a-4ec2-e586-de8a2fecabeb"
      },
      "execution_count": null,
      "outputs": [
        {
          "output_type": "execute_result",
          "data": {
            "text/plain": [
              "array(['cat', 'ship', 'ship', ..., 'dog', 'automobile', 'horse'],\n",
              "      dtype='<U10')"
            ]
          },
          "metadata": {},
          "execution_count": 94
        }
      ]
    },
    {
      "cell_type": "markdown",
      "source": [
        "## Metrics for performance of the Model 2"
      ],
      "metadata": {
        "id": "eo3kWPtKRyqF"
      }
    },
    {
      "cell_type": "code",
      "source": [
        "cnn_accuracy_cifar_adam = metrics.accuracy_score(y_true_new, y_pred_classes_new)\n",
        "print(\"Accuracy score is: {:5.2f}%\".format(100*cnn_accuracy_cifar_adam))\n",
        "\n",
        "cnn_metricsreport_cifar_adam = metrics.classification_report(y_true_new, y_pred_classes_new)\n",
        "print(\"Classification report with various metrics is given by:\")\n",
        "print(cnn_metricsreport_cifar_adam)"
      ],
      "metadata": {
        "colab": {
          "base_uri": "https://localhost:8080/"
        },
        "id": "V0h6FCLUQ1PW",
        "outputId": "80ad2069-7876-4ab6-9c7c-459b1e4bdd58"
      },
      "execution_count": null,
      "outputs": [
        {
          "output_type": "stream",
          "name": "stdout",
          "text": [
            "Accuracy score is: 82.48%\n",
            "Classification report with various metrics is given by:\n",
            "              precision    recall  f1-score   support\n",
            "\n",
            "           0       0.87      0.82      0.85      1000\n",
            "           1       0.93      0.92      0.92      1000\n",
            "           2       0.79      0.73      0.76      1000\n",
            "           3       0.76      0.57      0.65      1000\n",
            "           4       0.74      0.86      0.80      1000\n",
            "           5       0.73      0.79      0.76      1000\n",
            "           6       0.73      0.94      0.82      1000\n",
            "           7       0.90      0.82      0.86      1000\n",
            "           8       0.91      0.91      0.91      1000\n",
            "           9       0.92      0.89      0.90      1000\n",
            "\n",
            "    accuracy                           0.82     10000\n",
            "   macro avg       0.83      0.82      0.82     10000\n",
            "weighted avg       0.83      0.82      0.82     10000\n",
            "\n"
          ]
        }
      ]
    },
    {
      "cell_type": "markdown",
      "source": [
        "## Since Model 2 performs better among 3 models, different optimizers will be tried on the Model 2 CNN architecture."
      ],
      "metadata": {
        "id": "zTvTYXPE4mMI"
      }
    },
    {
      "cell_type": "markdown",
      "source": [
        "### SGD Optimizer\n",
        "\n",
        "\n",
        "\n"
      ],
      "metadata": {
        "id": "FAGHCNrWQPkc"
      }
    },
    {
      "cell_type": "code",
      "source": [
        "def create_model_2_SGD():\n",
        " model_2 = Sequential()\n",
        "\n",
        "\n",
        "\n",
        " model_2.add(Conv2D(96, kernel_size=(3, 3), strides=(1, 1), padding='valid',\n",
        "                 activation='relu', kernel_regularizer=keras.regularizers.l2(0.001), input_shape=input_shape)) \n",
        " model_2.add(Conv2D(96, kernel_size=(3, 3), strides=(1, 1), padding='valid',activation='relu', kernel_regularizer=keras.regularizers.l2(0.001))) \n",
        " model_2.add(BatchNormalization())\n",
        " model_2.add(MaxPooling2D(pool_size=(2, 2), strides=None, padding='valid'))\n",
        " model_2.add(Dropout(0.45)) \n",
        "\n",
        " model_2.add(Conv2D(128, kernel_size=(3, 3), strides=(1, 1), padding='valid',activation='relu', kernel_regularizer=keras.regularizers.l2(0.001))) \n",
        " model_2.add(Conv2D(128, kernel_size=(3, 3), strides=(1, 1), padding='valid',activation='relu', kernel_regularizer=keras.regularizers.l2(0.001))) \n",
        " model_2.add(BatchNormalization())\n",
        " model_2.add(MaxPooling2D(pool_size=(2, 2), strides=None, padding='valid'))\n",
        " model_2.add(Dropout(0.45)) \n",
        "\n",
        " model_2.add(Conv2D(128, kernel_size=(3, 3), strides=(1, 1), padding='same', activation='relu', kernel_regularizer=keras.regularizers.l2(0.001)))\n",
        " model_2.add(Conv2D(128, kernel_size=(3, 3), strides=(1, 1), padding='valid',activation='relu', kernel_regularizer=keras.regularizers.l2(0.001))) \n",
        " model_2.add(BatchNormalization())\n",
        " model_2.add(MaxPooling2D(pool_size=(2, 2), strides=None, padding='valid'))\n",
        " model_2.add(Dropout(0.45)) \n",
        "\n",
        " model_2.add(Flatten())\n",
        " model_2.add(Dense(256, activation='relu'))\n",
        " model_2.add(Dropout(0.5))\n",
        " model_2.add(Dense(300, activation='relu'))\n",
        " model_2.add(Dropout(0.5))\n",
        " model_2.add(Dense(y_train_tf.shape[1], activation='softmax'))\n",
        "\n",
        "\n",
        " model_2.compile(loss=\"categorical_crossentropy\", optimizer=tf.keras.optimizers.SGD(learning_rate=l_r), metrics=['accuracy'])\n",
        "\n",
        " return model_2"
      ],
      "metadata": {
        "id": "rWf682U_G2jk"
      },
      "execution_count": null,
      "outputs": []
    },
    {
      "cell_type": "code",
      "source": [
        "model_2_SGD = create_model_2_SGD()"
      ],
      "metadata": {
        "id": "SXr4Nycu2f2W"
      },
      "execution_count": null,
      "outputs": []
    },
    {
      "cell_type": "code",
      "source": [
        "checkpoint_path_SGD = \"training_2_SGD/cp.ckpt\"\n",
        "checkpoint_dir_SGD = os.path.dirname(checkpoint_path_SGD)\n",
        "\n",
        "# Create a callback that saves the model's weights\n",
        "cp_callback = ModelCheckpoint(filepath=checkpoint_path_SGD,\n",
        "                                                 save_weights_only=True,\n",
        "                                                 verbose=1)\n",
        "es = EarlyStopping(monitor='val_loss', min_delta=1e-5, patience = 10, verbose=1, mode='auto')\n",
        "\n",
        "\n",
        "\n",
        "# Train the model with the new callback\n",
        "history_SGD = model_2_SGD.fit(train_images, \n",
        "          y_train_tf,  \n",
        "          validation_split = 0.2,\n",
        "          verbose=1,\n",
        "          epochs=100,\n",
        "          batch_size=128, \n",
        "          callbacks=[cp_callback,es],\n",
        "          shuffle= True) "
      ],
      "metadata": {
        "colab": {
          "base_uri": "https://localhost:8080/"
        },
        "id": "4kkGNmHN4e-C",
        "outputId": "d27d8294-1d2e-4dc6-c8ed-97ecafe08358"
      },
      "execution_count": null,
      "outputs": [
        {
          "output_type": "stream",
          "name": "stdout",
          "text": [
            "Epoch 1/100\n",
            "311/313 [============================>.] - ETA: 0s - loss: 3.8434 - accuracy: 0.1155\n",
            "Epoch 1: saving model to training_2_SGD/cp.ckpt\n",
            "313/313 [==============================] - 10s 30ms/step - loss: 3.8423 - accuracy: 0.1155 - val_loss: 2.9214 - val_accuracy: 0.1026\n",
            "Epoch 2/100\n",
            "311/313 [============================>.] - ETA: 0s - loss: 3.3085 - accuracy: 0.1367\n",
            "Epoch 2: saving model to training_2_SGD/cp.ckpt\n",
            "313/313 [==============================] - 9s 29ms/step - loss: 3.3077 - accuracy: 0.1366 - val_loss: 2.8204 - val_accuracy: 0.1560\n",
            "Epoch 3/100\n",
            "312/313 [============================>.] - ETA: 0s - loss: 3.1074 - accuracy: 0.1490\n",
            "Epoch 3: saving model to training_2_SGD/cp.ckpt\n",
            "313/313 [==============================] - 9s 29ms/step - loss: 3.1073 - accuracy: 0.1490 - val_loss: 2.6975 - val_accuracy: 0.2072\n",
            "Epoch 4/100\n",
            "311/313 [============================>.] - ETA: 0s - loss: 3.0003 - accuracy: 0.1604\n",
            "Epoch 4: saving model to training_2_SGD/cp.ckpt\n",
            "313/313 [==============================] - 9s 29ms/step - loss: 3.0003 - accuracy: 0.1604 - val_loss: 2.6668 - val_accuracy: 0.2140\n",
            "Epoch 5/100\n",
            "311/313 [============================>.] - ETA: 0s - loss: 2.9217 - accuracy: 0.1718\n",
            "Epoch 5: saving model to training_2_SGD/cp.ckpt\n",
            "313/313 [==============================] - 9s 29ms/step - loss: 2.9215 - accuracy: 0.1720 - val_loss: 2.6767 - val_accuracy: 0.2011\n",
            "Epoch 6/100\n",
            "311/313 [============================>.] - ETA: 0s - loss: 2.8788 - accuracy: 0.1739\n",
            "Epoch 6: saving model to training_2_SGD/cp.ckpt\n",
            "313/313 [==============================] - 9s 29ms/step - loss: 2.8789 - accuracy: 0.1740 - val_loss: 2.6379 - val_accuracy: 0.2121\n",
            "Epoch 7/100\n",
            "311/313 [============================>.] - ETA: 0s - loss: 2.8246 - accuracy: 0.1842\n",
            "Epoch 7: saving model to training_2_SGD/cp.ckpt\n",
            "313/313 [==============================] - 9s 29ms/step - loss: 2.8248 - accuracy: 0.1841 - val_loss: 2.6057 - val_accuracy: 0.2268\n",
            "Epoch 8/100\n",
            "311/313 [============================>.] - ETA: 0s - loss: 2.7898 - accuracy: 0.1887\n",
            "Epoch 8: saving model to training_2_SGD/cp.ckpt\n",
            "313/313 [==============================] - 9s 29ms/step - loss: 2.7902 - accuracy: 0.1886 - val_loss: 2.6025 - val_accuracy: 0.2215\n",
            "Epoch 9/100\n",
            "311/313 [============================>.] - ETA: 0s - loss: 2.7518 - accuracy: 0.1971\n",
            "Epoch 9: saving model to training_2_SGD/cp.ckpt\n",
            "313/313 [==============================] - 9s 29ms/step - loss: 2.7516 - accuracy: 0.1972 - val_loss: 2.5744 - val_accuracy: 0.2357\n",
            "Epoch 10/100\n",
            "311/313 [============================>.] - ETA: 0s - loss: 2.7267 - accuracy: 0.2003\n",
            "Epoch 10: saving model to training_2_SGD/cp.ckpt\n",
            "313/313 [==============================] - 9s 29ms/step - loss: 2.7267 - accuracy: 0.2003 - val_loss: 2.5549 - val_accuracy: 0.2278\n",
            "Epoch 11/100\n",
            "311/313 [============================>.] - ETA: 0s - loss: 2.6919 - accuracy: 0.2094\n",
            "Epoch 11: saving model to training_2_SGD/cp.ckpt\n",
            "313/313 [==============================] - 9s 30ms/step - loss: 2.6917 - accuracy: 0.2093 - val_loss: 2.5165 - val_accuracy: 0.2374\n",
            "Epoch 12/100\n",
            "311/313 [============================>.] - ETA: 0s - loss: 2.6612 - accuracy: 0.2141\n",
            "Epoch 12: saving model to training_2_SGD/cp.ckpt\n",
            "313/313 [==============================] - 9s 30ms/step - loss: 2.6612 - accuracy: 0.2143 - val_loss: 2.5481 - val_accuracy: 0.2229\n",
            "Epoch 13/100\n",
            "311/313 [============================>.] - ETA: 0s - loss: 2.6342 - accuracy: 0.2211\n",
            "Epoch 13: saving model to training_2_SGD/cp.ckpt\n",
            "313/313 [==============================] - 10s 32ms/step - loss: 2.6341 - accuracy: 0.2213 - val_loss: 2.4886 - val_accuracy: 0.2448\n",
            "Epoch 14/100\n",
            "311/313 [============================>.] - ETA: 0s - loss: 2.6015 - accuracy: 0.2308\n",
            "Epoch 14: saving model to training_2_SGD/cp.ckpt\n",
            "313/313 [==============================] - 9s 30ms/step - loss: 2.6012 - accuracy: 0.2306 - val_loss: 2.4648 - val_accuracy: 0.2600\n",
            "Epoch 15/100\n",
            "311/313 [============================>.] - ETA: 0s - loss: 2.5716 - accuracy: 0.2373\n",
            "Epoch 15: saving model to training_2_SGD/cp.ckpt\n",
            "313/313 [==============================] - 10s 31ms/step - loss: 2.5717 - accuracy: 0.2373 - val_loss: 2.4826 - val_accuracy: 0.2407\n",
            "Epoch 16/100\n",
            "313/313 [==============================] - ETA: 0s - loss: 2.5587 - accuracy: 0.2376\n",
            "Epoch 16: saving model to training_2_SGD/cp.ckpt\n",
            "313/313 [==============================] - 9s 30ms/step - loss: 2.5587 - accuracy: 0.2376 - val_loss: 2.4015 - val_accuracy: 0.2878\n",
            "Epoch 17/100\n",
            "311/313 [============================>.] - ETA: 0s - loss: 2.5384 - accuracy: 0.2468\n",
            "Epoch 17: saving model to training_2_SGD/cp.ckpt\n",
            "313/313 [==============================] - 9s 29ms/step - loss: 2.5389 - accuracy: 0.2469 - val_loss: 2.4259 - val_accuracy: 0.2663\n",
            "Epoch 18/100\n",
            "311/313 [============================>.] - ETA: 0s - loss: 2.5197 - accuracy: 0.2533\n",
            "Epoch 18: saving model to training_2_SGD/cp.ckpt\n",
            "313/313 [==============================] - 9s 30ms/step - loss: 2.5199 - accuracy: 0.2533 - val_loss: 2.5381 - val_accuracy: 0.2444\n",
            "Epoch 19/100\n",
            "311/313 [============================>.] - ETA: 0s - loss: 2.4985 - accuracy: 0.2588\n",
            "Epoch 19: saving model to training_2_SGD/cp.ckpt\n",
            "313/313 [==============================] - 10s 32ms/step - loss: 2.4987 - accuracy: 0.2588 - val_loss: 2.4367 - val_accuracy: 0.2671\n",
            "Epoch 20/100\n",
            "313/313 [==============================] - ETA: 0s - loss: 2.4882 - accuracy: 0.2631\n",
            "Epoch 20: saving model to training_2_SGD/cp.ckpt\n",
            "313/313 [==============================] - 9s 29ms/step - loss: 2.4882 - accuracy: 0.2631 - val_loss: 2.4176 - val_accuracy: 0.2977\n",
            "Epoch 21/100\n",
            "311/313 [============================>.] - ETA: 0s - loss: 2.4683 - accuracy: 0.2703\n",
            "Epoch 21: saving model to training_2_SGD/cp.ckpt\n",
            "313/313 [==============================] - 9s 29ms/step - loss: 2.4684 - accuracy: 0.2705 - val_loss: 2.4207 - val_accuracy: 0.2738\n",
            "Epoch 22/100\n",
            "311/313 [============================>.] - ETA: 0s - loss: 2.4593 - accuracy: 0.2692\n",
            "Epoch 22: saving model to training_2_SGD/cp.ckpt\n",
            "313/313 [==============================] - 9s 29ms/step - loss: 2.4595 - accuracy: 0.2690 - val_loss: 2.3984 - val_accuracy: 0.2905\n",
            "Epoch 23/100\n",
            "311/313 [============================>.] - ETA: 0s - loss: 2.4487 - accuracy: 0.2743\n",
            "Epoch 23: saving model to training_2_SGD/cp.ckpt\n",
            "313/313 [==============================] - 9s 29ms/step - loss: 2.4489 - accuracy: 0.2741 - val_loss: 2.3631 - val_accuracy: 0.3038\n",
            "Epoch 24/100\n",
            "311/313 [============================>.] - ETA: 0s - loss: 2.4327 - accuracy: 0.2807\n",
            "Epoch 24: saving model to training_2_SGD/cp.ckpt\n",
            "313/313 [==============================] - 9s 29ms/step - loss: 2.4324 - accuracy: 0.2810 - val_loss: 2.4621 - val_accuracy: 0.2849\n",
            "Epoch 25/100\n",
            "311/313 [============================>.] - ETA: 0s - loss: 2.4240 - accuracy: 0.2859\n",
            "Epoch 25: saving model to training_2_SGD/cp.ckpt\n",
            "313/313 [==============================] - 9s 29ms/step - loss: 2.4242 - accuracy: 0.2858 - val_loss: 2.4235 - val_accuracy: 0.2938\n",
            "Epoch 26/100\n",
            "311/313 [============================>.] - ETA: 0s - loss: 2.4040 - accuracy: 0.2905\n",
            "Epoch 26: saving model to training_2_SGD/cp.ckpt\n",
            "313/313 [==============================] - 9s 29ms/step - loss: 2.4042 - accuracy: 0.2905 - val_loss: 2.3929 - val_accuracy: 0.2995\n",
            "Epoch 27/100\n",
            "311/313 [============================>.] - ETA: 0s - loss: 2.3942 - accuracy: 0.2939\n",
            "Epoch 27: saving model to training_2_SGD/cp.ckpt\n",
            "313/313 [==============================] - 9s 29ms/step - loss: 2.3942 - accuracy: 0.2939 - val_loss: 2.3156 - val_accuracy: 0.3433\n",
            "Epoch 28/100\n",
            "311/313 [============================>.] - ETA: 0s - loss: 2.3808 - accuracy: 0.2999\n",
            "Epoch 28: saving model to training_2_SGD/cp.ckpt\n",
            "313/313 [==============================] - 9s 29ms/step - loss: 2.3799 - accuracy: 0.3002 - val_loss: 2.2594 - val_accuracy: 0.3580\n",
            "Epoch 29/100\n",
            "311/313 [============================>.] - ETA: 0s - loss: 2.3576 - accuracy: 0.3094\n",
            "Epoch 29: saving model to training_2_SGD/cp.ckpt\n",
            "313/313 [==============================] - 9s 30ms/step - loss: 2.3579 - accuracy: 0.3091 - val_loss: 2.3574 - val_accuracy: 0.3100\n",
            "Epoch 30/100\n",
            "311/313 [============================>.] - ETA: 0s - loss: 2.3540 - accuracy: 0.3104\n",
            "Epoch 30: saving model to training_2_SGD/cp.ckpt\n",
            "313/313 [==============================] - 9s 29ms/step - loss: 2.3540 - accuracy: 0.3101 - val_loss: 2.4041 - val_accuracy: 0.3044\n",
            "Epoch 31/100\n",
            "311/313 [============================>.] - ETA: 0s - loss: 2.3402 - accuracy: 0.3157\n",
            "Epoch 31: saving model to training_2_SGD/cp.ckpt\n",
            "313/313 [==============================] - 9s 29ms/step - loss: 2.3403 - accuracy: 0.3155 - val_loss: 2.3572 - val_accuracy: 0.3318\n",
            "Epoch 32/100\n",
            "311/313 [============================>.] - ETA: 0s - loss: 2.3320 - accuracy: 0.3197\n",
            "Epoch 32: saving model to training_2_SGD/cp.ckpt\n",
            "313/313 [==============================] - 9s 29ms/step - loss: 2.3325 - accuracy: 0.3197 - val_loss: 2.3305 - val_accuracy: 0.3328\n",
            "Epoch 33/100\n",
            "311/313 [============================>.] - ETA: 0s - loss: 2.3218 - accuracy: 0.3242\n",
            "Epoch 33: saving model to training_2_SGD/cp.ckpt\n",
            "313/313 [==============================] - 9s 29ms/step - loss: 2.3222 - accuracy: 0.3241 - val_loss: 2.4758 - val_accuracy: 0.3052\n",
            "Epoch 34/100\n",
            "311/313 [============================>.] - ETA: 0s - loss: 2.3065 - accuracy: 0.3279\n",
            "Epoch 34: saving model to training_2_SGD/cp.ckpt\n",
            "313/313 [==============================] - 9s 29ms/step - loss: 2.3063 - accuracy: 0.3279 - val_loss: 2.2844 - val_accuracy: 0.3501\n",
            "Epoch 35/100\n",
            "311/313 [============================>.] - ETA: 0s - loss: 2.2975 - accuracy: 0.3337\n",
            "Epoch 35: saving model to training_2_SGD/cp.ckpt\n",
            "313/313 [==============================] - 9s 29ms/step - loss: 2.2973 - accuracy: 0.3338 - val_loss: 2.3072 - val_accuracy: 0.3385\n",
            "Epoch 36/100\n",
            "311/313 [============================>.] - ETA: 0s - loss: 2.2846 - accuracy: 0.3377\n",
            "Epoch 36: saving model to training_2_SGD/cp.ckpt\n",
            "313/313 [==============================] - 9s 29ms/step - loss: 2.2846 - accuracy: 0.3375 - val_loss: 2.3869 - val_accuracy: 0.3252\n",
            "Epoch 37/100\n",
            "311/313 [============================>.] - ETA: 0s - loss: 2.2687 - accuracy: 0.3435\n",
            "Epoch 37: saving model to training_2_SGD/cp.ckpt\n",
            "313/313 [==============================] - 9s 29ms/step - loss: 2.2683 - accuracy: 0.3436 - val_loss: 2.3433 - val_accuracy: 0.3475\n",
            "Epoch 38/100\n",
            "311/313 [============================>.] - ETA: 0s - loss: 2.2593 - accuracy: 0.3470\n",
            "Epoch 38: saving model to training_2_SGD/cp.ckpt\n",
            "313/313 [==============================] - 9s 29ms/step - loss: 2.2595 - accuracy: 0.3470 - val_loss: 2.4093 - val_accuracy: 0.3285\n",
            "Epoch 38: early stopping\n"
          ]
        }
      ]
    },
    {
      "cell_type": "code",
      "source": [
        "pd.DataFrame(history_SGD.history).plot(figsize=(8, 5))\n",
        "plt.grid(True)\n",
        "plt.gca().set_ylim(0,5)  \n",
        "plt.show()"
      ],
      "metadata": {
        "colab": {
          "base_uri": "https://localhost:8080/",
          "height": 324
        },
        "id": "6H6WMwGNAU5n",
        "outputId": "abc40da8-89c8-4ffe-9816-cc968ddfecf0"
      },
      "execution_count": null,
      "outputs": [
        {
          "output_type": "display_data",
          "data": {
            "text/plain": [
              "<Figure size 576x360 with 1 Axes>"
            ],
            "image/png": "[encoded data removed]"
          },
          "metadata": {
            "needs_background": "light"
          }
        }
      ]
    },
    {
      "cell_type": "code",
      "source": [
        "os.listdir(checkpoint_dir_SGD)\n",
        "\n",
        "## Saving the model and restoring\n",
        "\n",
        "model_2_SGD.save('CNN_cifar_m2_2_SGD.h5') \n",
        "model_new_2_SGD = tf.keras.models.load_model(\"CNN_cifar_m2_2_SGD.h5\")\n",
        "\n",
        "loss_new_2_SGD, acc_new_2_SGD = model_new_2_SGD.evaluate(test_images, y_test_tf, verbose=2)\n",
        "print(\"Restored model, accuracy: {:5.2f}%\".format(100 * acc_new_2_SGD))"
      ],
      "metadata": {
        "colab": {
          "base_uri": "https://localhost:8080/"
        },
        "id": "ly0jNlVIEAFM",
        "outputId": "3a5d1f5b-d503-4a49-c050-ef62094f73a3"
      },
      "execution_count": null,
      "outputs": [
        {
          "output_type": "stream",
          "name": "stdout",
          "text": [
            "313/313 - 2s - loss: 2.3928 - accuracy: 0.3335 - 2s/epoch - 5ms/step\n",
            "Restored model, accuracy: 33.35%\n"
          ]
        }
      ]
    },
    {
      "cell_type": "code",
      "source": [
        "# Get Model Predictions for test data\n",
        "# Predict the values from the validation dataset\n",
        "y_pred_SGD = model_new_2_SGD.predict(test_images)\n",
        "print(y_pred_SGD)\n",
        "# Convert predictions classes to one hot vectors \n",
        "y_pred_classes_SGD = np.argmax(y_pred_SGD,axis = 1) \n",
        "print(y_pred_classes_SGD)\n",
        "# Convert validation observations to one hot vectors\n",
        "y_true_SGD = np.argmax(y_test_tf,axis = 1)\n",
        "print(y_true_SGD)"
      ],
      "metadata": {
        "colab": {
          "base_uri": "https://localhost:8080/"
        },
        "outputId": "b52952b6-7a7e-4dab-b86b-ca0adad0defb",
        "id": "N4NqTNaoFZ5t"
      },
      "execution_count": null,
      "outputs": [
        {
          "output_type": "stream",
          "name": "stdout",
          "text": [
            "[[2.80809077e-03 2.28036148e-03 1.09450303e-01 ... 1.19673898e-02\n",
            "  3.15657374e-03 3.98898777e-03]\n",
            " [1.74130931e-01 1.23983115e-01 1.07527897e-03 ... 8.52928351e-05\n",
            "  6.39968812e-01 6.01270162e-02]\n",
            " [1.89082697e-01 1.48593694e-01 1.48383761e-02 ... 2.47339974e-03\n",
            "  5.36277652e-01 9.03750584e-02]\n",
            " ...\n",
            " [4.65902919e-03 8.02233350e-04 1.08943984e-01 ... 1.36493012e-01\n",
            "  9.81363817e-04 1.43440266e-03]\n",
            " [2.17525270e-02 1.40959360e-02 1.39118344e-01 ... 1.83258448e-02\n",
            "  2.73823421e-02 1.96657404e-02]\n",
            " [3.31533444e-03 9.44311789e-04 1.27472788e-01 ... 2.45487615e-02\n",
            "  1.65893801e-03 2.27734912e-03]]\n",
            "[6 8 8 ... 5 6 6]\n",
            "[3 8 8 ... 5 1 7]\n"
          ]
        }
      ]
    },
    {
      "cell_type": "code",
      "source": [
        "np.array(classes)[y_pred_classes_SGD]\n",
        "\n",
        "np.array(classes)[y_true_SGD]\n",
        "\n",
        "## Metrics for Performance of the trained model\n",
        "\n",
        "cnn_accuracy_cifar_SGD = metrics.accuracy_score(y_true_SGD, y_pred_classes_SGD)\n",
        "print(\"Accuracy score is: {:5.2f}%\".format(100*cnn_accuracy_cifar_SGD))\n",
        "\n",
        "cnn_metricsreport_cifar_SGD = metrics.classification_report(y_true_SGD, y_pred_classes_SGD)\n",
        "print(\"Classification report with various metrics is given by:\")\n",
        "print(cnn_metricsreport_cifar_SGD)"
      ],
      "metadata": {
        "colab": {
          "base_uri": "https://localhost:8080/"
        },
        "id": "DBUf4JfsFdXL",
        "outputId": "c9163ca1-b42b-4692-bfb3-e68712367b86"
      },
      "execution_count": null,
      "outputs": [
        {
          "output_type": "stream",
          "name": "stdout",
          "text": [
            "Accuracy score is: 33.35%\n",
            "Classification report with various metrics is given by:\n",
            "              precision    recall  f1-score   support\n",
            "\n",
            "           0       0.65      0.30      0.41      1000\n",
            "           1       0.55      0.49      0.52      1000\n",
            "           2       0.25      0.07      0.11      1000\n",
            "           3       0.29      0.08      0.13      1000\n",
            "           4       0.16      0.25      0.20      1000\n",
            "           5       0.54      0.20      0.29      1000\n",
            "           6       0.23      0.94      0.37      1000\n",
            "           7       0.65      0.14      0.22      1000\n",
            "           8       0.42      0.71      0.53      1000\n",
            "           9       0.61      0.17      0.27      1000\n",
            "\n",
            "    accuracy                           0.33     10000\n",
            "   macro avg       0.44      0.33      0.30     10000\n",
            "weighted avg       0.44      0.33      0.30     10000\n",
            "\n"
          ]
        }
      ]
    },
    {
      "cell_type": "markdown",
      "source": [
        "### AdaDelta Optimizer"
      ],
      "metadata": {
        "id": "ydK28s_G27-G"
      }
    },
    {
      "cell_type": "code",
      "source": [
        "def create_model_2_Adadelta():\n",
        " \n",
        " model_2 = Sequential()\n",
        " \n",
        " model_2.add(Conv2D(32, (3,3), padding='same',activation='relu', kernel_regularizer=regularizers.l2(weight_decay), input_shape=input_shape))\n",
        " model_2.add(BatchNormalization())\n",
        " model_2.add(Conv2D(32, (3,3), padding='same',activation='relu', kernel_regularizer=regularizers.l2(weight_decay)))\n",
        " model_2.add(BatchNormalization())\n",
        " model_2.add(MaxPooling2D(pool_size=(2,2)))\n",
        " model_2.add(Dropout(0.2))\n",
        " \n",
        " model_2.add(Conv2D(64, (3,3), padding='same',activation='relu', kernel_regularizer=regularizers.l2(weight_decay)))\n",
        " model_2.add(BatchNormalization())\n",
        " model_2.add(Conv2D(64, (3,3), padding='same',activation='relu', kernel_regularizer=regularizers.l2(weight_decay)))\n",
        " model_2.add(BatchNormalization())\n",
        " model_2.add(MaxPooling2D(pool_size=(2,2)))\n",
        " model_2.add(Dropout(0.3))\n",
        " \n",
        " model_2.add(Conv2D(128, (3,3), padding='same',activation='relu', kernel_regularizer=regularizers.l2(weight_decay)))\n",
        " model_2.add(BatchNormalization())\n",
        " model_2.add(Conv2D(128, (3,3), padding='same', activation='relu', kernel_regularizer=regularizers.l2(weight_decay)))\n",
        " model_2.add(BatchNormalization())\n",
        " model_2.add(MaxPooling2D(pool_size=(2,2)))\n",
        " model_2.add(Dropout(0.4))\n",
        " \n",
        " model_2.add(Flatten())\n",
        " model_2.add(Dense(y_train_tf.shape[1], activation='softmax'))\n",
        " \n",
        "\n",
        " model_2.compile(loss=\"categorical_crossentropy\", optimizer=tf.keras.optimizers.Adadelta(learning_rate=l_r), metrics=['accuracy'])\n",
        "\n",
        " return model_2"
      ],
      "metadata": {
        "id": "sfT5C18AGCA3"
      },
      "execution_count": null,
      "outputs": []
    },
    {
      "cell_type": "code",
      "source": [
        "model_2_Adadelta = create_model_2_Adadelta()"
      ],
      "metadata": {
        "id": "PQoOFV467QiQ"
      },
      "execution_count": null,
      "outputs": []
    },
    {
      "cell_type": "code",
      "source": [
        "checkpoint_path_Adadelta = \"training_2_Adadelta/cp.ckpt\"\n",
        "checkpoint_dir_Adadelta = os.path.dirname(checkpoint_path_Adadelta)\n",
        "\n",
        "# Create a callback that saves the model's weights\n",
        "cp_callback = ModelCheckpoint(filepath=checkpoint_path_Adadelta,\n",
        "                                                 save_weights_only=True,\n",
        "                                                 verbose=1)\n",
        "es = EarlyStopping(monitor='val_loss', min_delta=1e-5, patience = 10, verbose=1, mode='auto')\n",
        "\n",
        "\n",
        "\n",
        "# Train the model with the new callback\n",
        "history_Adadelta = model_2_Adadelta.fit(train_images, \n",
        "          y_train_tf,  \n",
        "          validation_split = 0.2,\n",
        "          verbose=1,\n",
        "          epochs=100,\n",
        "          batch_size=128, \n",
        "          callbacks=[cp_callback,es],\n",
        "          shuffle= True) "
      ],
      "metadata": {
        "colab": {
          "base_uri": "https://localhost:8080/"
        },
        "id": "ySuQ2hfA7Zq_",
        "outputId": "97f0d6a9-4a7a-4ef5-b555-bb69dba3364d"
      },
      "execution_count": null,
      "outputs": [
        {
          "output_type": "stream",
          "name": "stdout",
          "text": [
            "Epoch 1/100\n",
            "312/313 [============================>.] - ETA: 0s - loss: 4.5529 - accuracy: 0.1115\n",
            "Epoch 1: saving model to training_2_Adadelta/cp.ckpt\n",
            "313/313 [==============================] - 7s 19ms/step - loss: 4.5536 - accuracy: 0.1115 - val_loss: 2.5496 - val_accuracy: 0.1065\n",
            "Epoch 2/100\n",
            "310/313 [============================>.] - ETA: 0s - loss: 4.1718 - accuracy: 0.1234\n",
            "Epoch 2: saving model to training_2_Adadelta/cp.ckpt\n",
            "313/313 [==============================] - 5s 17ms/step - loss: 4.1713 - accuracy: 0.1234 - val_loss: 2.5799 - val_accuracy: 0.1396\n",
            "Epoch 3/100\n",
            "310/313 [============================>.] - ETA: 0s - loss: 3.9621 - accuracy: 0.1334\n",
            "Epoch 3: saving model to training_2_Adadelta/cp.ckpt\n",
            "313/313 [==============================] - 5s 17ms/step - loss: 3.9604 - accuracy: 0.1337 - val_loss: 2.5454 - val_accuracy: 0.1672\n",
            "Epoch 4/100\n",
            "310/313 [============================>.] - ETA: 0s - loss: 3.8110 - accuracy: 0.1449\n",
            "Epoch 4: saving model to training_2_Adadelta/cp.ckpt\n",
            "313/313 [==============================] - 6s 18ms/step - loss: 3.8109 - accuracy: 0.1451 - val_loss: 2.4838 - val_accuracy: 0.1856\n",
            "Epoch 5/100\n",
            "312/313 [============================>.] - ETA: 0s - loss: 3.6915 - accuracy: 0.1560\n",
            "Epoch 5: saving model to training_2_Adadelta/cp.ckpt\n",
            "313/313 [==============================] - 5s 17ms/step - loss: 3.6918 - accuracy: 0.1560 - val_loss: 2.4255 - val_accuracy: 0.2010\n",
            "Epoch 6/100\n",
            "311/313 [============================>.] - ETA: 0s - loss: 3.6213 - accuracy: 0.1674\n",
            "Epoch 6: saving model to training_2_Adadelta/cp.ckpt\n",
            "313/313 [==============================] - 5s 17ms/step - loss: 3.6216 - accuracy: 0.1674 - val_loss: 2.3768 - val_accuracy: 0.2145\n",
            "Epoch 7/100\n",
            "311/313 [============================>.] - ETA: 0s - loss: 3.5511 - accuracy: 0.1756\n",
            "Epoch 7: saving model to training_2_Adadelta/cp.ckpt\n",
            "313/313 [==============================] - 5s 17ms/step - loss: 3.5511 - accuracy: 0.1756 - val_loss: 2.3366 - val_accuracy: 0.2266\n",
            "Epoch 8/100\n",
            "313/313 [==============================] - ETA: 0s - loss: 3.5030 - accuracy: 0.1805\n",
            "Epoch 8: saving model to training_2_Adadelta/cp.ckpt\n",
            "313/313 [==============================] - 5s 17ms/step - loss: 3.5030 - accuracy: 0.1805 - val_loss: 2.3003 - val_accuracy: 0.2372\n",
            "Epoch 9/100\n",
            "311/313 [============================>.] - ETA: 0s - loss: 3.4357 - accuracy: 0.1932\n",
            "Epoch 9: saving model to training_2_Adadelta/cp.ckpt\n",
            "313/313 [==============================] - 5s 17ms/step - loss: 3.4351 - accuracy: 0.1932 - val_loss: 2.2703 - val_accuracy: 0.2451\n",
            "Epoch 10/100\n",
            "313/313 [==============================] - ETA: 0s - loss: 3.4112 - accuracy: 0.1963\n",
            "Epoch 10: saving model to training_2_Adadelta/cp.ckpt\n",
            "313/313 [==============================] - 5s 17ms/step - loss: 3.4112 - accuracy: 0.1963 - val_loss: 2.2430 - val_accuracy: 0.2528\n",
            "Epoch 11/100\n",
            "310/313 [============================>.] - ETA: 0s - loss: 3.3549 - accuracy: 0.2039\n",
            "Epoch 11: saving model to training_2_Adadelta/cp.ckpt\n",
            "313/313 [==============================] - 6s 18ms/step - loss: 3.3511 - accuracy: 0.2044 - val_loss: 2.2183 - val_accuracy: 0.2607\n",
            "Epoch 12/100\n",
            "313/313 [==============================] - ETA: 0s - loss: 3.3018 - accuracy: 0.2090\n",
            "Epoch 12: saving model to training_2_Adadelta/cp.ckpt\n",
            "313/313 [==============================] - 5s 17ms/step - loss: 3.3018 - accuracy: 0.2090 - val_loss: 2.1952 - val_accuracy: 0.2716\n",
            "Epoch 13/100\n",
            "312/313 [============================>.] - ETA: 0s - loss: 3.2447 - accuracy: 0.2157\n",
            "Epoch 13: saving model to training_2_Adadelta/cp.ckpt\n",
            "313/313 [==============================] - 6s 18ms/step - loss: 3.2444 - accuracy: 0.2157 - val_loss: 2.1767 - val_accuracy: 0.2748\n",
            "Epoch 14/100\n",
            "312/313 [============================>.] - ETA: 0s - loss: 3.2274 - accuracy: 0.2241\n",
            "Epoch 14: saving model to training_2_Adadelta/cp.ckpt\n",
            "313/313 [==============================] - 5s 17ms/step - loss: 3.2279 - accuracy: 0.2242 - val_loss: 2.1578 - val_accuracy: 0.2806\n",
            "Epoch 15/100\n",
            "311/313 [============================>.] - ETA: 0s - loss: 3.2073 - accuracy: 0.2238\n",
            "Epoch 15: saving model to training_2_Adadelta/cp.ckpt\n",
            "313/313 [==============================] - 6s 18ms/step - loss: 3.2063 - accuracy: 0.2238 - val_loss: 2.1369 - val_accuracy: 0.2869\n",
            "Epoch 16/100\n",
            "312/313 [============================>.] - ETA: 0s - loss: 3.1577 - accuracy: 0.2308\n",
            "Epoch 16: saving model to training_2_Adadelta/cp.ckpt\n",
            "313/313 [==============================] - 5s 17ms/step - loss: 3.1581 - accuracy: 0.2309 - val_loss: 2.1218 - val_accuracy: 0.2910\n",
            "Epoch 17/100\n",
            "310/313 [============================>.] - ETA: 0s - loss: 3.1516 - accuracy: 0.2331\n",
            "Epoch 17: saving model to training_2_Adadelta/cp.ckpt\n",
            "313/313 [==============================] - 5s 17ms/step - loss: 3.1500 - accuracy: 0.2333 - val_loss: 2.1026 - val_accuracy: 0.2960\n",
            "Epoch 18/100\n",
            "311/313 [============================>.] - ETA: 0s - loss: 3.1035 - accuracy: 0.2389\n",
            "Epoch 18: saving model to training_2_Adadelta/cp.ckpt\n",
            "313/313 [==============================] - 5s 17ms/step - loss: 3.1041 - accuracy: 0.2389 - val_loss: 2.0862 - val_accuracy: 0.3010\n",
            "Epoch 19/100\n",
            "313/313 [==============================] - ETA: 0s - loss: 3.0753 - accuracy: 0.2456\n",
            "Epoch 19: saving model to training_2_Adadelta/cp.ckpt\n",
            "313/313 [==============================] - 6s 18ms/step - loss: 3.0753 - accuracy: 0.2456 - val_loss: 2.0724 - val_accuracy: 0.3038\n",
            "Epoch 20/100\n",
            "310/313 [============================>.] - ETA: 0s - loss: 3.0430 - accuracy: 0.2458\n",
            "Epoch 20: saving model to training_2_Adadelta/cp.ckpt\n",
            "313/313 [==============================] - 5s 17ms/step - loss: 3.0424 - accuracy: 0.2458 - val_loss: 2.0565 - val_accuracy: 0.3092\n",
            "Epoch 21/100\n",
            "311/313 [============================>.] - ETA: 0s - loss: 3.0379 - accuracy: 0.2475\n",
            "Epoch 21: saving model to training_2_Adadelta/cp.ckpt\n",
            "313/313 [==============================] - 5s 17ms/step - loss: 3.0373 - accuracy: 0.2475 - val_loss: 2.0421 - val_accuracy: 0.3134\n",
            "Epoch 22/100\n",
            "310/313 [============================>.] - ETA: 0s - loss: 2.9911 - accuracy: 0.2507\n",
            "Epoch 22: saving model to training_2_Adadelta/cp.ckpt\n",
            "313/313 [==============================] - 5s 17ms/step - loss: 2.9921 - accuracy: 0.2506 - val_loss: 2.0276 - val_accuracy: 0.3175\n",
            "Epoch 23/100\n",
            "312/313 [============================>.] - ETA: 0s - loss: 2.9841 - accuracy: 0.2564\n",
            "Epoch 23: saving model to training_2_Adadelta/cp.ckpt\n",
            "313/313 [==============================] - 5s 17ms/step - loss: 2.9842 - accuracy: 0.2564 - val_loss: 2.0131 - val_accuracy: 0.3222\n",
            "Epoch 24/100\n",
            "313/313 [==============================] - ETA: 0s - loss: 2.9589 - accuracy: 0.2549\n",
            "Epoch 24: saving model to training_2_Adadelta/cp.ckpt\n",
            "313/313 [==============================] - 5s 17ms/step - loss: 2.9589 - accuracy: 0.2549 - val_loss: 2.0000 - val_accuracy: 0.3248\n",
            "Epoch 25/100\n",
            "313/313 [==============================] - ETA: 0s - loss: 2.9256 - accuracy: 0.2666\n",
            "Epoch 25: saving model to training_2_Adadelta/cp.ckpt\n",
            "313/313 [==============================] - 5s 17ms/step - loss: 2.9256 - accuracy: 0.2666 - val_loss: 1.9857 - val_accuracy: 0.3301\n",
            "Epoch 26/100\n",
            "311/313 [============================>.] - ETA: 0s - loss: 2.9283 - accuracy: 0.2598\n",
            "Epoch 26: saving model to training_2_Adadelta/cp.ckpt\n",
            "313/313 [==============================] - 5s 17ms/step - loss: 2.9290 - accuracy: 0.2599 - val_loss: 1.9731 - val_accuracy: 0.3331\n",
            "Epoch 27/100\n",
            "312/313 [============================>.] - ETA: 0s - loss: 2.8815 - accuracy: 0.2698\n",
            "Epoch 27: saving model to training_2_Adadelta/cp.ckpt\n",
            "313/313 [==============================] - 5s 17ms/step - loss: 2.8820 - accuracy: 0.2697 - val_loss: 1.9621 - val_accuracy: 0.3347\n",
            "Epoch 28/100\n",
            "310/313 [============================>.] - ETA: 0s - loss: 2.8637 - accuracy: 0.2757\n",
            "Epoch 28: saving model to training_2_Adadelta/cp.ckpt\n",
            "313/313 [==============================] - 5s 17ms/step - loss: 2.8629 - accuracy: 0.2759 - val_loss: 1.9500 - val_accuracy: 0.3368\n",
            "Epoch 29/100\n",
            "313/313 [==============================] - ETA: 0s - loss: 2.8399 - accuracy: 0.2743\n",
            "Epoch 29: saving model to training_2_Adadelta/cp.ckpt\n",
            "313/313 [==============================] - 5s 17ms/step - loss: 2.8399 - accuracy: 0.2743 - val_loss: 1.9373 - val_accuracy: 0.3415\n",
            "Epoch 30/100\n",
            "312/313 [============================>.] - ETA: 0s - loss: 2.8331 - accuracy: 0.2785\n",
            "Epoch 30: saving model to training_2_Adadelta/cp.ckpt\n",
            "313/313 [==============================] - 5s 17ms/step - loss: 2.8325 - accuracy: 0.2786 - val_loss: 1.9271 - val_accuracy: 0.3447\n",
            "Epoch 31/100\n",
            "311/313 [============================>.] - ETA: 0s - loss: 2.7938 - accuracy: 0.2816\n",
            "Epoch 31: saving model to training_2_Adadelta/cp.ckpt\n",
            "313/313 [==============================] - 5s 17ms/step - loss: 2.7935 - accuracy: 0.2819 - val_loss: 1.9163 - val_accuracy: 0.3484\n",
            "Epoch 32/100\n",
            "311/313 [============================>.] - ETA: 0s - loss: 2.7899 - accuracy: 0.2804\n",
            "Epoch 32: saving model to training_2_Adadelta/cp.ckpt\n",
            "313/313 [==============================] - 5s 17ms/step - loss: 2.7885 - accuracy: 0.2806 - val_loss: 1.9039 - val_accuracy: 0.3506\n",
            "Epoch 33/100\n",
            "311/313 [============================>.] - ETA: 0s - loss: 2.7704 - accuracy: 0.2835\n",
            "Epoch 33: saving model to training_2_Adadelta/cp.ckpt\n",
            "313/313 [==============================] - 5s 17ms/step - loss: 2.7707 - accuracy: 0.2834 - val_loss: 1.8932 - val_accuracy: 0.3533\n",
            "Epoch 34/100\n",
            "313/313 [==============================] - ETA: 0s - loss: 2.7448 - accuracy: 0.2862\n",
            "Epoch 34: saving model to training_2_Adadelta/cp.ckpt\n",
            "313/313 [==============================] - 5s 17ms/step - loss: 2.7448 - accuracy: 0.2862 - val_loss: 1.8843 - val_accuracy: 0.3555\n",
            "Epoch 35/100\n",
            "311/313 [============================>.] - ETA: 0s - loss: 2.7420 - accuracy: 0.2877\n",
            "Epoch 35: saving model to training_2_Adadelta/cp.ckpt\n",
            "313/313 [==============================] - 5s 17ms/step - loss: 2.7419 - accuracy: 0.2876 - val_loss: 1.8763 - val_accuracy: 0.3575\n",
            "Epoch 36/100\n",
            "313/313 [==============================] - ETA: 0s - loss: 2.7104 - accuracy: 0.2915\n",
            "Epoch 36: saving model to training_2_Adadelta/cp.ckpt\n",
            "313/313 [==============================] - 5s 17ms/step - loss: 2.7104 - accuracy: 0.2915 - val_loss: 1.8644 - val_accuracy: 0.3614\n",
            "Epoch 37/100\n",
            "311/313 [============================>.] - ETA: 0s - loss: 2.7079 - accuracy: 0.2910\n",
            "Epoch 37: saving model to training_2_Adadelta/cp.ckpt\n",
            "313/313 [==============================] - 5s 17ms/step - loss: 2.7079 - accuracy: 0.2909 - val_loss: 1.8561 - val_accuracy: 0.3635\n",
            "Epoch 38/100\n",
            "313/313 [==============================] - ETA: 0s - loss: 2.6696 - accuracy: 0.2973\n",
            "Epoch 38: saving model to training_2_Adadelta/cp.ckpt\n",
            "313/313 [==============================] - 5s 17ms/step - loss: 2.6696 - accuracy: 0.2973 - val_loss: 1.8472 - val_accuracy: 0.3672\n",
            "Epoch 39/100\n",
            "310/313 [============================>.] - ETA: 0s - loss: 2.6769 - accuracy: 0.2937\n",
            "Epoch 39: saving model to training_2_Adadelta/cp.ckpt\n",
            "313/313 [==============================] - 5s 17ms/step - loss: 2.6775 - accuracy: 0.2934 - val_loss: 1.8371 - val_accuracy: 0.3710\n",
            "Epoch 40/100\n",
            "311/313 [============================>.] - ETA: 0s - loss: 2.6429 - accuracy: 0.3018\n",
            "Epoch 40: saving model to training_2_Adadelta/cp.ckpt\n",
            "313/313 [==============================] - 6s 18ms/step - loss: 2.6442 - accuracy: 0.3017 - val_loss: 1.8301 - val_accuracy: 0.3747\n",
            "Epoch 41/100\n",
            "313/313 [==============================] - ETA: 0s - loss: 2.6386 - accuracy: 0.3024\n",
            "Epoch 41: saving model to training_2_Adadelta/cp.ckpt\n",
            "313/313 [==============================] - 6s 18ms/step - loss: 2.6386 - accuracy: 0.3024 - val_loss: 1.8233 - val_accuracy: 0.3758\n",
            "Epoch 42/100\n",
            "310/313 [============================>.] - ETA: 0s - loss: 2.6239 - accuracy: 0.3044\n",
            "Epoch 42: saving model to training_2_Adadelta/cp.ckpt\n",
            "313/313 [==============================] - 5s 17ms/step - loss: 2.6244 - accuracy: 0.3042 - val_loss: 1.8158 - val_accuracy: 0.3775\n",
            "Epoch 43/100\n",
            "311/313 [============================>.] - ETA: 0s - loss: 2.5928 - accuracy: 0.3075\n",
            "Epoch 43: saving model to training_2_Adadelta/cp.ckpt\n",
            "313/313 [==============================] - 5s 17ms/step - loss: 2.5938 - accuracy: 0.3076 - val_loss: 1.8078 - val_accuracy: 0.3801\n",
            "Epoch 44/100\n",
            "312/313 [============================>.] - ETA: 0s - loss: 2.5871 - accuracy: 0.3072\n",
            "Epoch 44: saving model to training_2_Adadelta/cp.ckpt\n",
            "313/313 [==============================] - 5s 17ms/step - loss: 2.5865 - accuracy: 0.3074 - val_loss: 1.8000 - val_accuracy: 0.3828\n",
            "Epoch 45/100\n",
            "313/313 [==============================] - ETA: 0s - loss: 2.5899 - accuracy: 0.3119\n",
            "Epoch 45: saving model to training_2_Adadelta/cp.ckpt\n",
            "313/313 [==============================] - 5s 17ms/step - loss: 2.5899 - accuracy: 0.3119 - val_loss: 1.7920 - val_accuracy: 0.3844\n",
            "Epoch 46/100\n",
            "310/313 [============================>.] - ETA: 0s - loss: 2.5721 - accuracy: 0.3100\n",
            "Epoch 46: saving model to training_2_Adadelta/cp.ckpt\n",
            "313/313 [==============================] - 5s 17ms/step - loss: 2.5714 - accuracy: 0.3099 - val_loss: 1.7838 - val_accuracy: 0.3883\n",
            "Epoch 47/100\n",
            "311/313 [============================>.] - ETA: 0s - loss: 2.5564 - accuracy: 0.3153\n",
            "Epoch 47: saving model to training_2_Adadelta/cp.ckpt\n",
            "313/313 [==============================] - 5s 17ms/step - loss: 2.5561 - accuracy: 0.3155 - val_loss: 1.7788 - val_accuracy: 0.3887\n",
            "Epoch 48/100\n",
            "311/313 [============================>.] - ETA: 0s - loss: 2.5426 - accuracy: 0.3111\n",
            "Epoch 48: saving model to training_2_Adadelta/cp.ckpt\n",
            "313/313 [==============================] - 5s 17ms/step - loss: 2.5427 - accuracy: 0.3110 - val_loss: 1.7730 - val_accuracy: 0.3916\n",
            "Epoch 49/100\n",
            "313/313 [==============================] - ETA: 0s - loss: 2.5363 - accuracy: 0.3175\n",
            "Epoch 49: saving model to training_2_Adadelta/cp.ckpt\n",
            "313/313 [==============================] - 6s 18ms/step - loss: 2.5363 - accuracy: 0.3175 - val_loss: 1.7644 - val_accuracy: 0.3937\n",
            "Epoch 50/100\n",
            "311/313 [============================>.] - ETA: 0s - loss: 2.5236 - accuracy: 0.3156\n",
            "Epoch 50: saving model to training_2_Adadelta/cp.ckpt\n",
            "313/313 [==============================] - 5s 17ms/step - loss: 2.5235 - accuracy: 0.3156 - val_loss: 1.7590 - val_accuracy: 0.3954\n",
            "Epoch 51/100\n",
            "312/313 [============================>.] - ETA: 0s - loss: 2.5100 - accuracy: 0.3193\n",
            "Epoch 51: saving model to training_2_Adadelta/cp.ckpt\n",
            "313/313 [==============================] - 5s 17ms/step - loss: 2.5107 - accuracy: 0.3192 - val_loss: 1.7528 - val_accuracy: 0.3972\n",
            "Epoch 52/100\n",
            "312/313 [============================>.] - ETA: 0s - loss: 2.4861 - accuracy: 0.3223\n",
            "Epoch 52: saving model to training_2_Adadelta/cp.ckpt\n",
            "313/313 [==============================] - 5s 17ms/step - loss: 2.4862 - accuracy: 0.3223 - val_loss: 1.7483 - val_accuracy: 0.3980\n",
            "Epoch 53/100\n",
            "311/313 [============================>.] - ETA: 0s - loss: 2.4690 - accuracy: 0.3235\n",
            "Epoch 53: saving model to training_2_Adadelta/cp.ckpt\n",
            "313/313 [==============================] - 5s 17ms/step - loss: 2.4688 - accuracy: 0.3234 - val_loss: 1.7401 - val_accuracy: 0.4015\n",
            "Epoch 54/100\n",
            "311/313 [============================>.] - ETA: 0s - loss: 2.4511 - accuracy: 0.3260\n",
            "Epoch 54: saving model to training_2_Adadelta/cp.ckpt\n",
            "313/313 [==============================] - 5s 17ms/step - loss: 2.4505 - accuracy: 0.3259 - val_loss: 1.7340 - val_accuracy: 0.4037\n",
            "Epoch 55/100\n",
            "313/313 [==============================] - ETA: 0s - loss: 2.4590 - accuracy: 0.3247\n",
            "Epoch 55: saving model to training_2_Adadelta/cp.ckpt\n",
            "313/313 [==============================] - 6s 18ms/step - loss: 2.4590 - accuracy: 0.3247 - val_loss: 1.7302 - val_accuracy: 0.4046\n",
            "Epoch 56/100\n",
            "312/313 [============================>.] - ETA: 0s - loss: 2.4443 - accuracy: 0.3277\n",
            "Epoch 56: saving model to training_2_Adadelta/cp.ckpt\n",
            "313/313 [==============================] - 5s 17ms/step - loss: 2.4451 - accuracy: 0.3276 - val_loss: 1.7254 - val_accuracy: 0.4070\n",
            "Epoch 57/100\n",
            "311/313 [============================>.] - ETA: 0s - loss: 2.4356 - accuracy: 0.3316\n",
            "Epoch 57: saving model to training_2_Adadelta/cp.ckpt\n",
            "313/313 [==============================] - 6s 18ms/step - loss: 2.4340 - accuracy: 0.3318 - val_loss: 1.7203 - val_accuracy: 0.4081\n",
            "Epoch 58/100\n",
            "313/313 [==============================] - ETA: 0s - loss: 2.4357 - accuracy: 0.3311\n",
            "Epoch 58: saving model to training_2_Adadelta/cp.ckpt\n",
            "313/313 [==============================] - 5s 17ms/step - loss: 2.4357 - accuracy: 0.3311 - val_loss: 1.7135 - val_accuracy: 0.4106\n",
            "Epoch 59/100\n",
            "310/313 [============================>.] - ETA: 0s - loss: 2.4179 - accuracy: 0.3305\n",
            "Epoch 59: saving model to training_2_Adadelta/cp.ckpt\n",
            "313/313 [==============================] - 5s 17ms/step - loss: 2.4195 - accuracy: 0.3300 - val_loss: 1.7108 - val_accuracy: 0.4117\n",
            "Epoch 60/100\n",
            "312/313 [============================>.] - ETA: 0s - loss: 2.3907 - accuracy: 0.3359\n",
            "Epoch 60: saving model to training_2_Adadelta/cp.ckpt\n",
            "313/313 [==============================] - 5s 17ms/step - loss: 2.3909 - accuracy: 0.3358 - val_loss: 1.7045 - val_accuracy: 0.4139\n",
            "Epoch 61/100\n",
            "312/313 [============================>.] - ETA: 0s - loss: 2.3909 - accuracy: 0.3343\n",
            "Epoch 61: saving model to training_2_Adadelta/cp.ckpt\n",
            "313/313 [==============================] - 6s 18ms/step - loss: 2.3912 - accuracy: 0.3342 - val_loss: 1.6988 - val_accuracy: 0.4175\n",
            "Epoch 62/100\n",
            "311/313 [============================>.] - ETA: 0s - loss: 2.3804 - accuracy: 0.3359\n",
            "Epoch 62: saving model to training_2_Adadelta/cp.ckpt\n",
            "313/313 [==============================] - 5s 17ms/step - loss: 2.3804 - accuracy: 0.3362 - val_loss: 1.6937 - val_accuracy: 0.4188\n",
            "Epoch 63/100\n",
            "311/313 [============================>.] - ETA: 0s - loss: 2.3720 - accuracy: 0.3338\n",
            "Epoch 63: saving model to training_2_Adadelta/cp.ckpt\n",
            "313/313 [==============================] - 5s 17ms/step - loss: 2.3723 - accuracy: 0.3340 - val_loss: 1.6895 - val_accuracy: 0.4181\n",
            "Epoch 64/100\n",
            "312/313 [============================>.] - ETA: 0s - loss: 2.3524 - accuracy: 0.3382\n",
            "Epoch 64: saving model to training_2_Adadelta/cp.ckpt\n",
            "313/313 [==============================] - 6s 18ms/step - loss: 2.3521 - accuracy: 0.3382 - val_loss: 1.6856 - val_accuracy: 0.4210\n",
            "Epoch 65/100\n",
            "312/313 [============================>.] - ETA: 0s - loss: 2.3527 - accuracy: 0.3384\n",
            "Epoch 65: saving model to training_2_Adadelta/cp.ckpt\n",
            "313/313 [==============================] - 5s 17ms/step - loss: 2.3524 - accuracy: 0.3385 - val_loss: 1.6819 - val_accuracy: 0.4216\n",
            "Epoch 66/100\n",
            "312/313 [============================>.] - ETA: 0s - loss: 2.3272 - accuracy: 0.3428\n",
            "Epoch 66: saving model to training_2_Adadelta/cp.ckpt\n",
            "313/313 [==============================] - 5s 17ms/step - loss: 2.3278 - accuracy: 0.3428 - val_loss: 1.6772 - val_accuracy: 0.4231\n",
            "Epoch 67/100\n",
            "313/313 [==============================] - ETA: 0s - loss: 2.3165 - accuracy: 0.3443\n",
            "Epoch 67: saving model to training_2_Adadelta/cp.ckpt\n",
            "313/313 [==============================] - 6s 18ms/step - loss: 2.3165 - accuracy: 0.3443 - val_loss: 1.6728 - val_accuracy: 0.4252\n",
            "Epoch 68/100\n",
            "310/313 [============================>.] - ETA: 0s - loss: 2.3330 - accuracy: 0.3444\n",
            "Epoch 68: saving model to training_2_Adadelta/cp.ckpt\n",
            "313/313 [==============================] - 5s 17ms/step - loss: 2.3312 - accuracy: 0.3448 - val_loss: 1.6683 - val_accuracy: 0.4254\n",
            "Epoch 69/100\n",
            "312/313 [============================>.] - ETA: 0s - loss: 2.3160 - accuracy: 0.3416\n",
            "Epoch 69: saving model to training_2_Adadelta/cp.ckpt\n",
            "313/313 [==============================] - 5s 17ms/step - loss: 2.3155 - accuracy: 0.3417 - val_loss: 1.6666 - val_accuracy: 0.4255\n",
            "Epoch 70/100\n",
            "313/313 [==============================] - ETA: 0s - loss: 2.2924 - accuracy: 0.3471\n",
            "Epoch 70: saving model to training_2_Adadelta/cp.ckpt\n",
            "313/313 [==============================] - 5s 17ms/step - loss: 2.2924 - accuracy: 0.3471 - val_loss: 1.6624 - val_accuracy: 0.4275\n",
            "Epoch 71/100\n",
            "313/313 [==============================] - ETA: 0s - loss: 2.3066 - accuracy: 0.3474\n",
            "Epoch 71: saving model to training_2_Adadelta/cp.ckpt\n",
            "313/313 [==============================] - 5s 17ms/step - loss: 2.3066 - accuracy: 0.3474 - val_loss: 1.6558 - val_accuracy: 0.4285\n",
            "Epoch 72/100\n",
            "311/313 [============================>.] - ETA: 0s - loss: 2.2878 - accuracy: 0.3479\n",
            "Epoch 72: saving model to training_2_Adadelta/cp.ckpt\n",
            "313/313 [==============================] - 5s 17ms/step - loss: 2.2877 - accuracy: 0.3480 - val_loss: 1.6524 - val_accuracy: 0.4292\n",
            "Epoch 73/100\n",
            "312/313 [============================>.] - ETA: 0s - loss: 2.2658 - accuracy: 0.3524\n",
            "Epoch 73: saving model to training_2_Adadelta/cp.ckpt\n",
            "313/313 [==============================] - 5s 17ms/step - loss: 2.2660 - accuracy: 0.3522 - val_loss: 1.6515 - val_accuracy: 0.4296\n",
            "Epoch 74/100\n",
            "312/313 [============================>.] - ETA: 0s - loss: 2.2708 - accuracy: 0.3501\n",
            "Epoch 74: saving model to training_2_Adadelta/cp.ckpt\n",
            "313/313 [==============================] - 5s 17ms/step - loss: 2.2711 - accuracy: 0.3501 - val_loss: 1.6465 - val_accuracy: 0.4298\n",
            "Epoch 75/100\n",
            "313/313 [==============================] - ETA: 0s - loss: 2.2569 - accuracy: 0.3548\n",
            "Epoch 75: saving model to training_2_Adadelta/cp.ckpt\n",
            "313/313 [==============================] - 5s 17ms/step - loss: 2.2569 - accuracy: 0.3548 - val_loss: 1.6424 - val_accuracy: 0.4310\n",
            "Epoch 76/100\n",
            "313/313 [==============================] - ETA: 0s - loss: 2.2571 - accuracy: 0.3533\n",
            "Epoch 76: saving model to training_2_Adadelta/cp.ckpt\n",
            "313/313 [==============================] - 6s 18ms/step - loss: 2.2571 - accuracy: 0.3533 - val_loss: 1.6377 - val_accuracy: 0.4321\n",
            "Epoch 77/100\n",
            "310/313 [============================>.] - ETA: 0s - loss: 2.2424 - accuracy: 0.3549\n",
            "Epoch 77: saving model to training_2_Adadelta/cp.ckpt\n",
            "313/313 [==============================] - 5s 17ms/step - loss: 2.2411 - accuracy: 0.3551 - val_loss: 1.6367 - val_accuracy: 0.4326\n",
            "Epoch 78/100\n",
            "313/313 [==============================] - ETA: 0s - loss: 2.2423 - accuracy: 0.3538\n",
            "Epoch 78: saving model to training_2_Adadelta/cp.ckpt\n",
            "313/313 [==============================] - 5s 17ms/step - loss: 2.2423 - accuracy: 0.3538 - val_loss: 1.6325 - val_accuracy: 0.4344\n",
            "Epoch 79/100\n",
            "312/313 [============================>.] - ETA: 0s - loss: 2.2147 - accuracy: 0.3577\n",
            "Epoch 79: saving model to training_2_Adadelta/cp.ckpt\n",
            "313/313 [==============================] - 5s 17ms/step - loss: 2.2146 - accuracy: 0.3577 - val_loss: 1.6277 - val_accuracy: 0.4362\n",
            "Epoch 80/100\n",
            "311/313 [============================>.] - ETA: 0s - loss: 2.2155 - accuracy: 0.3610\n",
            "Epoch 80: saving model to training_2_Adadelta/cp.ckpt\n",
            "313/313 [==============================] - 5s 17ms/step - loss: 2.2151 - accuracy: 0.3611 - val_loss: 1.6265 - val_accuracy: 0.4376\n",
            "Epoch 81/100\n",
            "310/313 [============================>.] - ETA: 0s - loss: 2.2121 - accuracy: 0.3588\n",
            "Epoch 81: saving model to training_2_Adadelta/cp.ckpt\n",
            "313/313 [==============================] - 5s 17ms/step - loss: 2.2130 - accuracy: 0.3586 - val_loss: 1.6244 - val_accuracy: 0.4372\n",
            "Epoch 82/100\n",
            "311/313 [============================>.] - ETA: 0s - loss: 2.1913 - accuracy: 0.3616\n",
            "Epoch 82: saving model to training_2_Adadelta/cp.ckpt\n",
            "313/313 [==============================] - 5s 17ms/step - loss: 2.1923 - accuracy: 0.3616 - val_loss: 1.6188 - val_accuracy: 0.4396\n",
            "Epoch 83/100\n",
            "311/313 [============================>.] - ETA: 0s - loss: 2.2029 - accuracy: 0.3616\n",
            "Epoch 83: saving model to training_2_Adadelta/cp.ckpt\n",
            "313/313 [==============================] - 6s 18ms/step - loss: 2.2027 - accuracy: 0.3616 - val_loss: 1.6162 - val_accuracy: 0.4399\n",
            "Epoch 84/100\n",
            "312/313 [============================>.] - ETA: 0s - loss: 2.2049 - accuracy: 0.3609\n",
            "Epoch 84: saving model to training_2_Adadelta/cp.ckpt\n",
            "313/313 [==============================] - 6s 18ms/step - loss: 2.2053 - accuracy: 0.3608 - val_loss: 1.6136 - val_accuracy: 0.4404\n",
            "Epoch 85/100\n",
            "310/313 [============================>.] - ETA: 0s - loss: 2.1816 - accuracy: 0.3652\n",
            "Epoch 85: saving model to training_2_Adadelta/cp.ckpt\n",
            "313/313 [==============================] - 5s 17ms/step - loss: 2.1825 - accuracy: 0.3650 - val_loss: 1.6113 - val_accuracy: 0.4417\n",
            "Epoch 86/100\n",
            "313/313 [==============================] - ETA: 0s - loss: 2.1784 - accuracy: 0.3698\n",
            "Epoch 86: saving model to training_2_Adadelta/cp.ckpt\n",
            "313/313 [==============================] - 5s 17ms/step - loss: 2.1784 - accuracy: 0.3698 - val_loss: 1.6082 - val_accuracy: 0.4430\n",
            "Epoch 87/100\n",
            "313/313 [==============================] - ETA: 0s - loss: 2.1608 - accuracy: 0.3678\n",
            "Epoch 87: saving model to training_2_Adadelta/cp.ckpt\n",
            "313/313 [==============================] - 6s 18ms/step - loss: 2.1608 - accuracy: 0.3678 - val_loss: 1.6045 - val_accuracy: 0.4441\n",
            "Epoch 88/100\n",
            "312/313 [============================>.] - ETA: 0s - loss: 2.1690 - accuracy: 0.3679\n",
            "Epoch 88: saving model to training_2_Adadelta/cp.ckpt\n",
            "313/313 [==============================] - 5s 17ms/step - loss: 2.1684 - accuracy: 0.3679 - val_loss: 1.6014 - val_accuracy: 0.4442\n",
            "Epoch 89/100\n",
            "310/313 [============================>.] - ETA: 0s - loss: 2.1409 - accuracy: 0.3715\n",
            "Epoch 89: saving model to training_2_Adadelta/cp.ckpt\n",
            "313/313 [==============================] - 5s 17ms/step - loss: 2.1415 - accuracy: 0.3715 - val_loss: 1.5997 - val_accuracy: 0.4450\n",
            "Epoch 90/100\n",
            "310/313 [============================>.] - ETA: 0s - loss: 2.1613 - accuracy: 0.3676\n",
            "Epoch 90: saving model to training_2_Adadelta/cp.ckpt\n",
            "313/313 [==============================] - 5s 17ms/step - loss: 2.1606 - accuracy: 0.3678 - val_loss: 1.5965 - val_accuracy: 0.4462\n",
            "Epoch 91/100\n",
            "311/313 [============================>.] - ETA: 0s - loss: 2.1495 - accuracy: 0.3680\n",
            "Epoch 91: saving model to training_2_Adadelta/cp.ckpt\n",
            "313/313 [==============================] - 5s 17ms/step - loss: 2.1493 - accuracy: 0.3680 - val_loss: 1.5942 - val_accuracy: 0.4463\n",
            "Epoch 92/100\n",
            "313/313 [==============================] - ETA: 0s - loss: 2.1316 - accuracy: 0.3734\n",
            "Epoch 92: saving model to training_2_Adadelta/cp.ckpt\n",
            "313/313 [==============================] - 5s 17ms/step - loss: 2.1316 - accuracy: 0.3734 - val_loss: 1.5898 - val_accuracy: 0.4481\n",
            "Epoch 93/100\n",
            "311/313 [============================>.] - ETA: 0s - loss: 2.1290 - accuracy: 0.3706\n",
            "Epoch 93: saving model to training_2_Adadelta/cp.ckpt\n",
            "313/313 [==============================] - 5s 17ms/step - loss: 2.1289 - accuracy: 0.3705 - val_loss: 1.5887 - val_accuracy: 0.4476\n",
            "Epoch 94/100\n",
            "311/313 [============================>.] - ETA: 0s - loss: 2.1204 - accuracy: 0.3747\n",
            "Epoch 94: saving model to training_2_Adadelta/cp.ckpt\n",
            "313/313 [==============================] - 5s 17ms/step - loss: 2.1204 - accuracy: 0.3749 - val_loss: 1.5861 - val_accuracy: 0.4488\n",
            "Epoch 95/100\n",
            "310/313 [============================>.] - ETA: 0s - loss: 2.1067 - accuracy: 0.3747\n",
            "Epoch 95: saving model to training_2_Adadelta/cp.ckpt\n",
            "313/313 [==============================] - 5s 17ms/step - loss: 2.1058 - accuracy: 0.3748 - val_loss: 1.5841 - val_accuracy: 0.4497\n",
            "Epoch 96/100\n",
            "310/313 [============================>.] - ETA: 0s - loss: 2.1034 - accuracy: 0.3758\n",
            "Epoch 96: saving model to training_2_Adadelta/cp.ckpt\n",
            "313/313 [==============================] - 5s 17ms/step - loss: 2.1025 - accuracy: 0.3760 - val_loss: 1.5817 - val_accuracy: 0.4503\n",
            "Epoch 97/100\n",
            "311/313 [============================>.] - ETA: 0s - loss: 2.0871 - accuracy: 0.3812\n",
            "Epoch 97: saving model to training_2_Adadelta/cp.ckpt\n",
            "313/313 [==============================] - 5s 17ms/step - loss: 2.0871 - accuracy: 0.3812 - val_loss: 1.5803 - val_accuracy: 0.4498\n",
            "Epoch 98/100\n",
            "312/313 [============================>.] - ETA: 0s - loss: 2.1022 - accuracy: 0.3785\n",
            "Epoch 98: saving model to training_2_Adadelta/cp.ckpt\n",
            "313/313 [==============================] - 5s 17ms/step - loss: 2.1021 - accuracy: 0.3785 - val_loss: 1.5753 - val_accuracy: 0.4534\n",
            "Epoch 99/100\n",
            "312/313 [============================>.] - ETA: 0s - loss: 2.0908 - accuracy: 0.3805\n",
            "Epoch 99: saving model to training_2_Adadelta/cp.ckpt\n",
            "313/313 [==============================] - 5s 17ms/step - loss: 2.0905 - accuracy: 0.3805 - val_loss: 1.5754 - val_accuracy: 0.4539\n",
            "Epoch 100/100\n",
            "311/313 [============================>.] - ETA: 0s - loss: 2.0784 - accuracy: 0.3810\n",
            "Epoch 100: saving model to training_2_Adadelta/cp.ckpt\n",
            "313/313 [==============================] - 5s 17ms/step - loss: 2.0782 - accuracy: 0.3812 - val_loss: 1.5721 - val_accuracy: 0.4550\n"
          ]
        }
      ]
    },
    {
      "cell_type": "code",
      "source": [
        "pd.DataFrame(history_Adadelta.history).plot(figsize=(8, 5))\n",
        "plt.grid(True)\n",
        "plt.gca().set_ylim(0,5)  \n",
        "plt.show()"
      ],
      "metadata": {
        "colab": {
          "base_uri": "https://localhost:8080/",
          "height": 324
        },
        "id": "m8yKgHsPI68o",
        "outputId": "31449ff8-1c38-4f8e-9542-de473762cc61"
      },
      "execution_count": null,
      "outputs": [
        {
          "output_type": "display_data",
          "data": {
            "text/plain": [
              "<Figure size 576x360 with 1 Axes>"
            ],
            "image/png": "[encoded data removed]"
          },
          "metadata": {
            "needs_background": "light"
          }
        }
      ]
    },
    {
      "cell_type": "code",
      "source": [
        "os.listdir(checkpoint_dir_Adadelta)\n",
        "\n",
        "## Saving the model and restoring\n",
        "\n",
        "model_2_Adadelta.save('CNN_cifar_m2_2_Adadelta.h5') \n",
        "model_new_2_Adadelta = tf.keras.models.load_model(\"CNN_cifar_m2_2_Adadelta.h5\")\n",
        "\n",
        "loss_new_2_Adadelta, acc_new_2_Adadelta = model_new_2_Adadelta.evaluate(test_images, y_test_tf, verbose=2)\n",
        "print(\"Restored model, accuracy: {:5.2f}%\".format(100 * acc_new_2_Adadelta))\n",
        "\n"
      ],
      "metadata": {
        "colab": {
          "base_uri": "https://localhost:8080/"
        },
        "id": "fvPCSPM6I7Zw",
        "outputId": "db60ceef-344f-4315-fce7-9edaa19b9ecf"
      },
      "execution_count": null,
      "outputs": [
        {
          "output_type": "stream",
          "name": "stdout",
          "text": [
            "313/313 - 1s - loss: 1.5457 - accuracy: 0.4587 - 1s/epoch - 4ms/step\n",
            "Restored model, accuracy: 45.87%\n"
          ]
        }
      ]
    },
    {
      "cell_type": "code",
      "source": [
        "# Get Model Predictions for test data\n",
        "# Predict the values from the validation dataset\n",
        "y_pred_Adadelta = model_new_2_Adadelta.predict(test_images)\n",
        "print(y_pred_Adadelta)\n",
        "# Convert predictions classes to one hot vectors \n",
        "y_pred_classes_Adadelta = np.argmax(y_pred_Adadelta,axis = 1) \n",
        "print(y_pred_classes_Adadelta)\n",
        "# Convert validation observations to one hot vectors\n",
        "y_true_Adadelta = np.argmax(y_test_tf,axis = 1)\n",
        "print(y_true_Adadelta)\n",
        "\n",
        "np.array(classes)[y_pred_classes_Adadelta]\n",
        "np.array(classes)[y_true_Adadelta]"
      ],
      "metadata": {
        "colab": {
          "base_uri": "https://localhost:8080/"
        },
        "id": "0zh0NMcAJTWL",
        "outputId": "953cc435-2e56-4f25-9f27-d75d7c1f0c2f"
      },
      "execution_count": null,
      "outputs": [
        {
          "output_type": "stream",
          "name": "stdout",
          "text": [
            "[[2.2451740e-02 2.2513545e-03 1.0503836e-01 ... 7.4091204e-04\n",
            "  8.4694035e-02 5.5314664e-04]\n",
            " [1.5369006e-02 5.5154544e-01 6.3476975e-05 ... 3.2546177e-05\n",
            "  3.8055998e-01 5.2307107e-02]\n",
            " [1.3147150e-01 5.2108601e-02 2.2242684e-03 ... 1.4685953e-04\n",
            "  8.0933410e-01 2.7403894e-03]\n",
            " ...\n",
            " [2.5710929e-03 1.1801537e-03 9.7771488e-02 ... 1.6624340e-01\n",
            "  1.3590092e-03 6.1704852e-03]\n",
            " [1.8056858e-02 4.9031544e-02 5.1902365e-02 ... 6.2280372e-02\n",
            "  2.4970095e-03 2.1958493e-02]\n",
            " [8.2118716e-03 3.8261786e-03 7.3945500e-02 ... 4.6751279e-01\n",
            "  2.3439471e-03 1.1521767e-02]]\n",
            "[3 1 8 ... 3 6 7]\n",
            "[3 8 8 ... 5 1 7]\n"
          ]
        },
        {
          "output_type": "execute_result",
          "data": {
            "text/plain": [
              "array(['cat', 'ship', 'ship', ..., 'dog', 'automobile', 'horse'],\n",
              "      dtype='<U10')"
            ]
          },
          "metadata": {},
          "execution_count": 108
        }
      ]
    },
    {
      "cell_type": "code",
      "source": [
        "## Metrics for Performance of the trained model\n",
        "\n",
        "cnn_accuracy_cifar_Adadelta = metrics.accuracy_score(y_true_Adadelta, y_pred_classes_Adadelta)\n",
        "print(\"Accuracy score is: {:5.2f}%\".format(100*cnn_accuracy_cifar_Adadelta))\n",
        "\n",
        "cnn_metricsreport_cifar_Adadelta = metrics.classification_report(y_true_Adadelta, y_pred_classes_Adadelta)\n",
        "print(\"Classification report with various metrics is given by:\")\n",
        "print(cnn_metricsreport_cifar_Adadelta)"
      ],
      "metadata": {
        "colab": {
          "base_uri": "https://localhost:8080/"
        },
        "id": "djJsKE5gJfKQ",
        "outputId": "ea09b60a-8cfd-4d82-d1ff-841e761882f3"
      },
      "execution_count": null,
      "outputs": [
        {
          "output_type": "stream",
          "name": "stdout",
          "text": [
            "Accuracy score is: 45.87%\n",
            "Classification report with various metrics is given by:\n",
            "              precision    recall  f1-score   support\n",
            "\n",
            "           0       0.60      0.46      0.52      1000\n",
            "           1       0.62      0.56      0.59      1000\n",
            "           2       0.38      0.24      0.29      1000\n",
            "           3       0.40      0.19      0.25      1000\n",
            "           4       0.30      0.57      0.39      1000\n",
            "           5       0.47      0.31      0.37      1000\n",
            "           6       0.38      0.61      0.47      1000\n",
            "           7       0.56      0.47      0.51      1000\n",
            "           8       0.51      0.70      0.59      1000\n",
            "           9       0.56      0.49      0.52      1000\n",
            "\n",
            "    accuracy                           0.46     10000\n",
            "   macro avg       0.48      0.46      0.45     10000\n",
            "weighted avg       0.48      0.46      0.45     10000\n",
            "\n"
          ]
        }
      ]
    },
    {
      "cell_type": "code",
      "source": [
        "from texttable import Texttable\n",
        "t = Texttable()\n",
        "t.add_rows([['Optimizer', 'Accuracy in %'], ['Adam',cnn_accuracy_cifar_adam*100 ], ['SGD', cnn_accuracy_cifar_SGD*100], ['Adadelta', cnn_accuracy_cifar_Adadelta*100]])\n",
        "print(t.draw())"
      ],
      "metadata": {
        "colab": {
          "base_uri": "https://localhost:8080/"
        },
        "id": "IR68ykYGJryX",
        "outputId": "30c4b4b1-99b2-45fb-d1bf-4ff41f0df085"
      },
      "execution_count": null,
      "outputs": [
        {
          "output_type": "stream",
          "name": "stdout",
          "text": [
            "+-----------+---------------+\n",
            "| Optimizer | Accuracy in % |\n",
            "+===========+===============+\n",
            "| Adam      | 82.480        |\n",
            "+-----------+---------------+\n",
            "| SGD       | 33.350        |\n",
            "+-----------+---------------+\n",
            "| Adadelta  | 45.870        |\n",
            "+-----------+---------------+\n"
          ]
        }
      ]
    },
    {
      "cell_type": "markdown",
      "source": [
        "## Takeaways from the assignment\n",
        "\n",
        "1.  As shown, Adam optimizer performs the best among the three optimizers with \n",
        "   model 2. There are many optimizers available in the literature, which may or may not perform well for the dataset and the loss function. (https://paperswithcode.com/sota/image-classification-on-cifar-10)\n",
        "2. There are various loss functions as well like `SparseCategoricalCrossentropy`, `MSE`, `Binary Log Loss` etc. So, with different loss functions, there may or may not be better results for one or more optimizers. Moreover, it also depends on the data as well which loss function to choose, since the data can either be categorical or continuous.\n",
        "3. As mentioned before, large number of neurons and layers does not always guarantee higher accuracy. Using more layers and neurons might lead to overfitting/underfitting of the data in question.  \n",
        "4. Futhermore, paramaters like number of epochs, strides, number of filters in the CNN etc. also play a cruical role in getting the performance of a model."
      ],
      "metadata": {
        "id": "Pk9bHVMlisgz"
      }
    },
    {
      "cell_type": "code",
      "source": [],
      "metadata": {
        "id": "znuw0BSilTVs"
      },
      "execution_count": null,
      "outputs": []
    }
  ],
  "metadata": {
    "accelerator": "GPU",
    "colab": {
      "collapsed_sections": [],
      "provenance": []
    },
    "kernelspec": {
      "display_name": "Python 3",
      "name": "python3"
    },
    "gpuClass": "standard"
  },
  "nbformat": 4,
  "nbformat_minor": 0
}